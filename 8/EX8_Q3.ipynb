{
  "cells": [
    {
      "cell_type": "code",
      "execution_count": 16,
      "metadata": {
        "id": "MFNUGcw4hREW"
      },
      "outputs": [],
      "source": [
        "import copy\n",
        "import math\n",
        "import os\n",
        "from collections import namedtuple\n",
        "import ipywidgets as widgets\n",
        "import matplotlib.pyplot as plt\n",
        "import more_itertools as mitt\n",
        "import numpy as np\n",
        "import torch\n",
        "import torch.nn as nn\n",
        "import torch.nn.functional as F\n",
        "import tqdm\n"
      ]
    },
    {
      "cell_type": "code",
      "source": [
        "!apt-get install python-box2d\n",
        "!pip install box2d-py\n",
        "!pip install gym[Box_2D]\n",
        "import gym"
      ],
      "metadata": {
        "colab": {
          "base_uri": "https://localhost:8080/"
        },
        "id": "P1lpHH6Ghr0H",
        "outputId": "d7b080bf-2e8d-416b-cfb1-08e605e3600c"
      },
      "execution_count": 17,
      "outputs": [
        {
          "output_type": "stream",
          "name": "stdout",
          "text": [
            "Reading package lists... Done\n",
            "Building dependency tree       \n",
            "Reading state information... Done\n",
            "python-box2d is already the newest version (2.3.2~dfsg-2).\n",
            "0 upgraded, 0 newly installed, 0 to remove and 39 not upgraded.\n",
            "Requirement already satisfied: box2d-py in /usr/local/lib/python3.7/dist-packages (2.3.8)\n",
            "Requirement already satisfied: gym[Box_2D] in /usr/local/lib/python3.7/dist-packages (0.17.3)\n",
            "\u001b[33mWARNING: gym 0.17.3 does not provide the extra 'box_2d'\u001b[0m\n",
            "Requirement already satisfied: cloudpickle<1.7.0,>=1.2.0 in /usr/local/lib/python3.7/dist-packages (from gym[Box_2D]) (1.3.0)\n",
            "Requirement already satisfied: pyglet<=1.5.0,>=1.4.0 in /usr/local/lib/python3.7/dist-packages (from gym[Box_2D]) (1.5.0)\n",
            "Requirement already satisfied: numpy>=1.10.4 in /usr/local/lib/python3.7/dist-packages (from gym[Box_2D]) (1.21.5)\n",
            "Requirement already satisfied: scipy in /usr/local/lib/python3.7/dist-packages (from gym[Box_2D]) (1.4.1)\n",
            "Requirement already satisfied: future in /usr/local/lib/python3.7/dist-packages (from pyglet<=1.5.0,>=1.4.0->gym[Box_2D]) (0.16.0)\n"
          ]
        }
      ]
    },
    {
      "cell_type": "code",
      "execution_count": 18,
      "metadata": {
        "id": "QC6tbeWphREY"
      },
      "outputs": [],
      "source": [
        "envs = {\n",
        "    'cartpole': gym.make('CartPole-v1'),\n",
        "    'lunarlander': gym.make('LunarLander-v2'),\n",
        "}"
      ]
    },
    {
      "cell_type": "code",
      "execution_count": 19,
      "metadata": {
        "id": "bv-vSWMDhREd"
      },
      "outputs": [],
      "source": [
        "#### Exponential Decay\n",
        "\n",
        "class ExponentialDecay:\n",
        "    def __init__(self, value_from, value_to, num_steps):\n",
        "\n",
        "        self.value_from = value_from\n",
        "        self.value_to = value_to\n",
        "        self.num_steps = num_steps\n",
        "\n",
        "        # `a` and `b` parameters such that the schedule is correct\n",
        "        self.a = self.value_from\n",
        "        self.b = math.log(self.value_to/self.a) / (self.num_steps-1)\n",
        "\n",
        "    def value(self, step) -> float:\n",
        "\n",
        "        if step <= 0:\n",
        "            value = self.value_from\n",
        "        elif step >= self.num_steps - 1:\n",
        "            value = self.value_to\n",
        "        else:\n",
        "            value = self.a * math.exp(self.b * step)\n",
        "        \n",
        "        return value\n"
      ]
    },
    {
      "cell_type": "code",
      "execution_count": 20,
      "metadata": {
        "id": "TZ7vpt7uhREe"
      },
      "outputs": [],
      "source": [
        "# Batch namedtuple, a class which contains the given attributes\n",
        "Batch = namedtuple(\n",
        "    'Batch', ('states', 'actions', 'rewards', 'next_states', 'dones')\n",
        ")\n",
        "\n",
        "\n",
        "class ReplayMemory:\n",
        "    def __init__(self, max_size, state_size):\n",
        "        \"\"\"Replay memory as a buffer.\n",
        "        \"\"\"\n",
        "        self.max_size = max_size\n",
        "        self.state_size = state_size\n",
        "\n",
        "        # preallocating all the required memory, for speed concerns\n",
        "        self.states = torch.empty((max_size, state_size))\n",
        "        self.actions = torch.empty((max_size, 1), dtype=torch.long)\n",
        "        self.rewards = torch.empty((max_size, 1))\n",
        "        self.next_states = torch.empty((max_size, state_size))\n",
        "        self.dones = torch.empty((max_size, 1), dtype=torch.bool)\n",
        "\n",
        "        \n",
        "        self.idx = 0\n",
        " \n",
        "        self.size = 0\n",
        "\n",
        "    def add(self, state, action, reward, next_state, done):\n",
        "\n",
        "\n",
        "        # store the input values into the appropriate attributes, using the current buffer position `self.idx`\n",
        "\n",
        "        self.states[self.idx] = state\n",
        "        self.actions[self.idx] = action\n",
        "        self.rewards[self.idx] = reward\n",
        "        self.next_states[self.idx] = next_state\n",
        "        self.dones[self.idx] = done\n",
        "      \n",
        "        # circulate the pointer to the next position\n",
        "        self.idx = (self.idx + 1) % self.max_size\n",
        "        # update the current buffer size\n",
        "        self.size = min(self.size + 1, self.max_size)\n",
        "\n",
        "    def sample(self, batch_size) -> Batch:\n",
        "\n",
        "\n",
        "        if batch_size >= self.size: \n",
        "            sample_indices = torch.arange(self.size)\n",
        "        else:\n",
        "            sample_indices = torch.from_numpy(np.random.choice(range(self.size), size=batch_size,replace=False))\n",
        "        \n",
        "        sample_indices = sample_indices.long()\n",
        "        \n",
        "        states = torch.index_select(self.states, 0, sample_indices)\n",
        "        actions = torch.index_select(self.actions, 0, sample_indices)\n",
        "        rewards = torch.index_select(self.rewards, 0, sample_indices)\n",
        "        next_states = torch.index_select(self.next_states, 0, sample_indices)\n",
        "        dones = torch.index_select(self.dones, 0, sample_indices)\n",
        "        \n",
        "        batch = Batch(states,actions,rewards,next_states,dones)\n",
        "\n",
        "        return batch\n",
        "\n",
        "    def populate(self, env, num_steps):\n",
        "        \"\"\"Populate this replay memory with `num_steps` from the random policy.\n",
        "        \"\"\"\n",
        "\n",
        "        # run a random policy for `num_steps` time-steps \n",
        "\n",
        "        state = env.reset()\n",
        "        for i in range(num_steps):\n",
        "            action = env.action_space.sample()\n",
        "            next_state, reward, done, _ = env.step(action)\n",
        "            self.add(torch.from_numpy(state), action, reward, torch.from_numpy(next_state), done)\n",
        "            \n",
        "            state = next_state\n",
        "            if done:\n",
        "                state = env.reset()"
      ]
    },
    {
      "cell_type": "code",
      "execution_count": 21,
      "metadata": {
        "id": "aWg0GmqKhREg"
      },
      "outputs": [],
      "source": [
        "class DQN(nn.Module):\n",
        "    def __init__(self, state_dim, action_dim, *, num_layers=3, hidden_dim=256):\n",
        "\n",
        "\n",
        "        super().__init__()\n",
        "        self.state_dim = state_dim\n",
        "        self.action_dim = action_dim\n",
        "        self.num_layers = num_layers\n",
        "        self.hidden_dim = hidden_dim\n",
        "\n",
        "\n",
        "        layer_map = []\n",
        "        layer_map.append(nn.Linear(self.state_dim,hidden_dim)) # input layer\n",
        "        layer_map.append(nn.ReLU())\n",
        "\n",
        "        for i in range(2,num_layers):\n",
        "            layer_map.append(nn.Linear(self.hidden_dim,self.hidden_dim))\n",
        "            layer_map.append(nn.ReLU())\n",
        "            \n",
        "        layer_map.append(nn.Linear(hidden_dim,self.action_dim)) # output layer\n",
        "        layer_map.append(nn.Identity())\n",
        "        \n",
        "        self.model = nn.Sequential(*layer_map)\n",
        "\n",
        "    def forward(self, states) -> torch.Tensor:\n",
        "\n",
        "        return self.model(states)\n",
        "\n",
        "    \n",
        "    @classmethod\n",
        "    def custom_load(cls, data):\n",
        "        model = cls(*data['args'], **data['kwargs'])\n",
        "        model.load_state_dict(data['state_dict'])\n",
        "        return model\n",
        "\n",
        "    def custom_dump(self):\n",
        "        return {\n",
        "            'args': (self.state_dim, self.action_dim),\n",
        "            'kwargs': {\n",
        "                'num_layers': self.num_layers,\n",
        "                'hidden_dim': self.hidden_dim,\n",
        "            },\n",
        "            'state_dict': self.state_dict(),\n",
        "        }\n",
        "\n"
      ]
    },
    {
      "cell_type": "code",
      "execution_count": 22,
      "metadata": {
        "id": "nWyz8GHmhREh"
      },
      "outputs": [],
      "source": [
        "def train_dqn_batch(optimizer, batch, dqn_model, dqn_target, gamma) -> float:\n",
        "    \"\"\"Perform a single batch-update step on the given DQN model.\n",
        "    \"\"\"\n",
        "    # computing the values and target_values tensors using the given models and the batch of data.\n",
        "    \n",
        "    # values = current Q values, targets = rewards + gamma * max Q values\n",
        "\n",
        "    states, actions, rewards, next_states, dones = batch\n",
        "    length = torch.numel(rewards)\n",
        "    values = torch.empty(length,dtype=torch.float)\n",
        "    target_values = np.empty(length)\n",
        "\n",
        "    for i in range(length):\n",
        "        values[i] = dqn_model(states[i])[actions[i]]\n",
        "        if dones[i]:\n",
        "            target_values[i] = rewards[i]\n",
        "        else:\n",
        "            target_values[i] = rewards[i] + gamma * dqn_target(next_states[i])[torch.argmax(dqn_model(states[i])).item()]\n",
        "            \n",
        "    target_values = torch.tensor(target_values,dtype=torch.float) # to avoid requires_grad nonsense\n",
        "            \n",
        "    assert (\n",
        "        values.shape == target_values.shape\n",
        "    ), 'Shapes of values tensor and target_values tensor do not match.'\n",
        "\n",
        "\n",
        "    # computing the scalar MSE loss between computed values and the TD-target\n",
        "    loss = F.mse_loss(values, target_values)\n",
        "\n",
        "    optimizer.zero_grad()  # reset all previous gradients\n",
        "    loss.backward()  # compute new gradients\n",
        "    optimizer.step()  # perform one gradient descent step\n",
        "\n",
        "    return loss.item()"
      ]
    },
    {
      "cell_type": "code",
      "execution_count": 34,
      "metadata": {
        "id": "7H9Pqum4hREi"
      },
      "outputs": [],
      "source": [
        "def train_dqn(\n",
        "    env,\n",
        "    num_steps,\n",
        "    *,\n",
        "    replay_size,\n",
        "    replay_prepopulate_steps=0,\n",
        "    batch_size,\n",
        "    exploration,\n",
        "    gamma,\n",
        "):\n",
        "    \"\"\"\n",
        "    we  train for a given number of time-steps rather than a given number of episodes. \n",
        "    \"\"\"\n",
        "    # check that environment states are compatible with our DQN representation\n",
        "    assert (\n",
        "        isinstance(env.observation_space, gym.spaces.Box)\n",
        "        and len(env.observation_space.shape) == 1\n",
        "    )\n",
        "\n",
        "    # get the state_size from the environment\n",
        "    state_size = env.observation_space.shape[0]\n",
        "\n",
        "    # initialize the DQN and DQN-target models\n",
        "    dqn_model = DQN(state_size, env.action_space.n)\n",
        "    dqn_target = DQN.custom_load(dqn_model.custom_dump())\n",
        "\n",
        "    # initialize the optimizer\n",
        "    optimizer = torch.optim.Adam(dqn_model.parameters())\n",
        "\n",
        "    # initialize the replay memory and prepopulate it\n",
        "    memory = ReplayMemory(replay_size, state_size)\n",
        "    memory.populate(env, replay_prepopulate_steps)\n",
        "\n",
        "    # initiate lists to store returns, lengths and losses\n",
        "    rewards = []\n",
        "    returns = []\n",
        "    lengths = []\n",
        "    losses = []\n",
        "\n",
        "\n",
        "    i_episode = 0  \n",
        "    t_episode = 0  \n",
        "    G = 0 # episode return, \n",
        "\n",
        "    state = env.reset()  # initialize state of first episode\n",
        "\n",
        "    # iterate for a total of `num_steps` steps\n",
        "    \n",
        "    pbar = tqdm.notebook.tnrange(num_steps)\n",
        "\n",
        "    for t_total in pbar:\n",
        "\n",
        "        #  sampling an action from the DQN using epsilon-greedy\n",
        "        #  using the action to advance the environment by one step\n",
        "        #  storing the transition into the replay memory\n",
        "\n",
        "        eps = exploration.value(t_total)\n",
        "        \n",
        "        if np.random.random() < eps:\n",
        "            action = np.random.randint(env.action_space.n)\n",
        "        else:\n",
        "            action = torch.argmax(dqn_model(torch.Tensor(state)))\n",
        "            action = action.item()\n",
        "            \n",
        "        next_state, reward, done, _ = env.step(action)\n",
        "        G += reward\n",
        "        \n",
        "        memory.add(torch.Tensor(state), action, reward, torch.Tensor(next_state), done)\n",
        "        \n",
        "        \n",
        "        #  sampling a batch from the replay memory\n",
        "        #  performing a batch update \n",
        "        \n",
        "        if t_total % 4 == 0:\n",
        "            batch = memory.sample(batch_size)\n",
        "            loss = train_dqn_batch(optimizer, batch, dqn_model, dqn_target, gamma)\n",
        "            losses.append(loss)\n",
        "\n",
        "     \n",
        "        #  updating the target network\n",
        "        \n",
        "        if t_total % 10000 == 0:\n",
        "            dqn_target.load_state_dict(dqn_model.state_dict())\n",
        "\n",
        "        if done:\n",
        "            # compute return G, store stuff, reset variables, indices and lists\n",
        "            \n",
        "            lengths.append(t_episode + 1)\n",
        "            returns.append(G)\n",
        "            state = env.reset()\n",
        "\n",
        "            pbar.set_description(\n",
        "                f'Episode: {i_episode} | Steps: {t_episode + 1} | Return: {G:5.2f} | Epsilon: {eps:4.2f}'\n",
        "            )\n",
        "            \n",
        "            G = 0\n",
        "            i_episode += 1\n",
        "            t_episode = 0\n",
        "\n",
        "        else:\n",
        "      \n",
        "            \n",
        "            state = next_state\n",
        "            t_episode += 1\n",
        "\n",
        "\n",
        "    return (\n",
        "        np.array(returns),\n",
        "        np.array(losses),\n",
        "    )"
      ]
    },
    {
      "cell_type": "markdown",
      "metadata": {
        "id": "OWpEIlOmhREi"
      },
      "source": [
        "\n",
        "\n",
        "#### CartPole \n",
        "\n",
        "#### gamma = 0.99\n",
        "#### num_steps = 1000 # episods \n",
        "#### replay_size = 1000\n",
        "#### replay_prepopulate_steps = 1000\n",
        "#### batch_size = 64"
      ]
    },
    {
      "cell_type": "code",
      "execution_count": 36,
      "metadata": {
        "colab": {
          "base_uri": "https://localhost:8080/",
          "height": 49,
          "referenced_widgets": [
            "c20c3503e995444f83a8d6fb6d2cc03b",
            "a1a345d833b147b188bef3a9f65385b2",
            "e4e81f6ee768401285e29cf3812eaf18",
            "ec718289362e467cab5bcc575ed67820",
            "f620218154094fba9de3d36e9c4cbda9",
            "bd5a5d2907a5470facd9a47b08767751",
            "3ccc5680af2a422c855c5997cee9b2c5",
            "ae0cf172f40e4614873a3bba59d3c729",
            "bc8d36d43b9440b6b980fdc604d3007b",
            "4d618030d3e64dce80093f2de6392430",
            "f26379a9d59f4442805be66077b4bcd3"
          ]
        },
        "id": "kKPBaU8ghREj",
        "outputId": "23a585d0-d8f6-41cf-a4b5-5b2361f009f3"
      },
      "outputs": [
        {
          "output_type": "display_data",
          "data": {
            "text/plain": [
              "  0%|          | 0/1000 [00:00<?, ?it/s]"
            ],
            "application/vnd.jupyter.widget-view+json": {
              "version_major": 2,
              "version_minor": 0,
              "model_id": "c20c3503e995444f83a8d6fb6d2cc03b"
            }
          },
          "metadata": {}
        }
      ],
      "source": [
        "env = envs['cartpole']\n",
        "\n",
        "gamma = 0.99\n",
        "num_steps = 1000 # episods \n",
        "replay_size = 1000\n",
        "replay_prepopulate_steps = 1000\n",
        "batch_size = 64\n",
        "\n",
        "exploration = ExponentialDecay(1.0, 0.05, 1000) \n",
        "\n",
        "returns,  losses = train_dqn(\n",
        "    env,\n",
        "    num_steps,\n",
        "    replay_size=replay_size,\n",
        "    replay_prepopulate_steps=replay_prepopulate_steps,\n",
        "    batch_size=batch_size,\n",
        "    exploration=exploration,\n",
        "    gamma=gamma,\n",
        ")\n",
        "\n",
        "assert len(dqn_models) == num_saves\n",
        "assert all(isinstance(value, DQN) for value in dqn_models.values())\n",
        "\n",
        "# saving computed models to disk\n",
        "checkpoint = {key: dqn.custom_dump() for key, dqn in dqn_models.items()}\n",
        "torch.save(checkpoint, f'checkpoint_{env.spec.id}.pt')"
      ]
    },
    {
      "cell_type": "code",
      "execution_count": 37,
      "metadata": {
        "scrolled": true,
        "id": "CLKiwEJfhREj",
        "outputId": "43d3f71a-9a11-4945-c3f4-a8dd08182abb",
        "colab": {
          "base_uri": "https://localhost:8080/",
          "height": 616
        }
      },
      "outputs": [
        {
          "output_type": "stream",
          "name": "stderr",
          "text": [
            "No handles with labels found to put in legend.\n"
          ]
        },
        {
          "output_type": "display_data",
          "data": {
            "text/plain": [
              "<Figure size 432x288 with 1 Axes>"
            ],
            "image/png": "[encoded data removed]"
          },
          "metadata": {
            "needs_background": "light"
          }
        },
        {
          "output_type": "stream",
          "name": "stderr",
          "text": [
            "No handles with labels found to put in legend.\n"
          ]
        },
        {
          "output_type": "display_data",
          "data": {
            "text/plain": [
              "<Figure size 432x288 with 1 Axes>"
            ],
            "image/png": "[encoded data removed]"
          },
          "metadata": {
            "needs_background": "light"
          }
        }
      ],
      "source": [
        "### PLOTTING \n",
        "window_size = 1000\n",
        "plt.plot(returns)\n",
        "plt.title(\"CartPole Episode Returns\")\n",
        "plt.xlabel(\"Episode\")\n",
        "plt.ylabel(\"Return\")\n",
        "plt.legend()\n",
        "plt.show()\n",
        "\n",
        "plt.plot(losses)\n",
        "plt.title(\"CartPole Loss\")\n",
        "plt.xlabel(\"Training Batch\")\n",
        "plt.ylabel(\"Loss\")\n",
        "plt.legend()\n",
        "plt.show()\n",
        "\n"
      ]
    },
    {
      "cell_type": "markdown",
      "metadata": {
        "id": "Uwjw6GnohREn"
      },
      "source": [
        "#### LunarLander\n",
        "\n",
        "#### gamma = 0.99\n",
        "#### num_steps = 1000 # episods \n",
        "#### replay_size = 1000\n",
        "#### replay_prepopulate_steps = 1000\n",
        "#### batch_size = 64\n"
      ]
    },
    {
      "cell_type": "code",
      "execution_count": 32,
      "metadata": {
        "colab": {
          "referenced_widgets": [
            "9832de17afe541abb828a43443ab86ea",
            "b8e4ea638ac3411ea3e4a97ea823cf57",
            "7ba97ad8a8f9450a981f60ecbe207ed2",
            "e67151f55f274a4a9358ae79831c0be5",
            "31cc7544f33d479aabab1bf4883575c5",
            "32e710047cbc4e0886594653a527e0a3",
            "29483489a7734a8cb88ccaa509cfe211",
            "da49eb51fc8c421ea0c79fe6455de60f",
            "cc08d25cee654d9dba01fa57e8910d23",
            "b1fa376da3b74156be0e49edc6a934ee",
            "9328aec4cf0f4cc28a3d5643786a98c1"
          ],
          "base_uri": "https://localhost:8080/",
          "height": 49
        },
        "id": "O85FZO6thREn",
        "outputId": "2a83bb96-910b-488f-df1c-25e4fffdd562"
      },
      "outputs": [
        {
          "output_type": "display_data",
          "data": {
            "text/plain": [
              "  0%|          | 0/1000 [00:00<?, ?it/s]"
            ],
            "application/vnd.jupyter.widget-view+json": {
              "version_major": 2,
              "version_minor": 0,
              "model_id": "9832de17afe541abb828a43443ab86ea"
            }
          },
          "metadata": {}
        }
      ],
      "source": [
        "env = envs['lunarlander']\n",
        "\n",
        "gamma = 0.99\n",
        "num_steps = 1000\n",
        "replay_size = 1000\n",
        "replay_prepopulate_steps = 1000\n",
        "batch_size = 64\n",
        "\n",
        "exploration = ExponentialDecay(1.0, 0.05, 1000)\n",
        "\n",
        "\n",
        "dqn_models, returns, lengths, losses = train_dqn(\n",
        "    env,\n",
        "    num_steps,\n",
        "    replay_size=replay_size,\n",
        "    replay_prepopulate_steps=replay_prepopulate_steps,\n",
        "    batch_size=batch_size,\n",
        "    exploration=exploration,\n",
        "    gamma=gamma,\n",
        ")\n",
        "\n",
        "assert len(dqn_models) == num_saves\n",
        "assert all(isinstance(value, DQN) for value in dqn_models.values())\n",
        "\n",
        "# saving computed models to disk\n",
        "checkpoint = {key: dqn.custom_dump() for key, dqn in dqn_models.items()}\n",
        "torch.save(checkpoint, f'checkpoint_{env.spec.id}.pt')"
      ]
    },
    {
      "cell_type": "code",
      "execution_count": 33,
      "metadata": {
        "id": "7y2RwjCehREo",
        "outputId": "42b2f93b-5c02-4989-e2c7-1493910d8206",
        "colab": {
          "base_uri": "https://localhost:8080/",
          "height": 616
        }
      },
      "outputs": [
        {
          "output_type": "stream",
          "name": "stderr",
          "text": [
            "No handles with labels found to put in legend.\n"
          ]
        },
        {
          "output_type": "display_data",
          "data": {
            "text/plain": [
              "<Figure size 432x288 with 1 Axes>"
            ],
            "image/png": "[encoded data removed]"
          },
          "metadata": {
            "needs_background": "light"
          }
        },
        {
          "output_type": "stream",
          "name": "stderr",
          "text": [
            "No handles with labels found to put in legend.\n"
          ]
        },
        {
          "output_type": "display_data",
          "data": {
            "text/plain": [
              "<Figure size 432x288 with 1 Axes>"
            ],
            "image/png": "[encoded data removed]"
          },
          "metadata": {
            "needs_background": "light"
          }
        }
      ],
      "source": [
        "### PLOTTING \n",
        "window_size = 1000\n",
        "plt.plot(returns)\n",
        "plt.title(\"LunarLander Episode Returns\")\n",
        "plt.xlabel(\"Episode\")\n",
        "plt.ylabel(\"Return\")\n",
        "plt.legend()\n",
        "plt.show()\n",
        "\n",
        "plt.plot(losses)\n",
        "plt.title(\"LunarLander Loss\")\n",
        "plt.xlabel(\"Training Batch\")\n",
        "plt.ylabel(\"Loss\")\n",
        "plt.legend()\n",
        "plt.show()\n"
      ]
    },
    {
      "cell_type": "code",
      "execution_count": null,
      "metadata": {
        "id": "WTOgQXaAhREt"
      },
      "outputs": [],
      "source": [
        ""
      ]
    }
  ],
  "metadata": {
    "kernelspec": {
      "display_name": "Python 3 (ipykernel)",
      "language": "python",
      "name": "python3"
    },
    "language_info": {
      "codemirror_mode": {
        "name": "ipython",
        "version": 3
      },
      "file_extension": ".py",
      "mimetype": "text/x-python",
      "name": "python",
      "nbconvert_exporter": "python",
      "pygments_lexer": "ipython3",
      "version": "3.7.2"
    },
    "widgets": {
      "application/vnd.jupyter.widget-state+json": {
        "c20c3503e995444f83a8d6fb6d2cc03b": {
          "model_module": "@jupyter-widgets/controls",
          "model_name": "HBoxModel",
          "model_module_version": "1.5.0",
          "state": {
            "_dom_classes": [],
            "_model_module": "@jupyter-widgets/controls",
            "_model_module_version": "1.5.0",
            "_model_name": "HBoxModel",
            "_view_count": null,
            "_view_module": "@jupyter-widgets/controls",
            "_view_module_version": "1.5.0",
            "_view_name": "HBoxView",
            "box_style": "",
            "children": [
              "IPY_MODEL_a1a345d833b147b188bef3a9f65385b2",
              "IPY_MODEL_e4e81f6ee768401285e29cf3812eaf18",
              "IPY_MODEL_ec718289362e467cab5bcc575ed67820"
            ],
            "layout": "IPY_MODEL_f620218154094fba9de3d36e9c4cbda9"
          }
        },
        "a1a345d833b147b188bef3a9f65385b2": {
          "model_module": "@jupyter-widgets/controls",
          "model_name": "HTMLModel",
          "model_module_version": "1.5.0",
          "state": {
            "_dom_classes": [],
            "_model_module": "@jupyter-widgets/controls",
            "_model_module_version": "1.5.0",
            "_model_name": "HTMLModel",
            "_view_count": null,
            "_view_module": "@jupyter-widgets/controls",
            "_view_module_version": "1.5.0",
            "_view_name": "HTMLView",
            "description": "",
            "description_tooltip": null,
            "layout": "IPY_MODEL_bd5a5d2907a5470facd9a47b08767751",
            "placeholder": "​",
            "style": "IPY_MODEL_3ccc5680af2a422c855c5997cee9b2c5",
            "value": "Episode: 77 | Steps: 9 | Return:  9.00 | Epsilon: 0.05: 100%"
          }
        },
        "e4e81f6ee768401285e29cf3812eaf18": {
          "model_module": "@jupyter-widgets/controls",
          "model_name": "FloatProgressModel",
          "model_module_version": "1.5.0",
          "state": {
            "_dom_classes": [],
            "_model_module": "@jupyter-widgets/controls",
            "_model_module_version": "1.5.0",
            "_model_name": "FloatProgressModel",
            "_view_count": null,
            "_view_module": "@jupyter-widgets/controls",
            "_view_module_version": "1.5.0",
            "_view_name": "ProgressView",
            "bar_style": "success",
            "description": "",
            "description_tooltip": null,
            "layout": "IPY_MODEL_ae0cf172f40e4614873a3bba59d3c729",
            "max": 1000,
            "min": 0,
            "orientation": "horizontal",
            "style": "IPY_MODEL_bc8d36d43b9440b6b980fdc604d3007b",
            "value": 1000
          }
        },
        "ec718289362e467cab5bcc575ed67820": {
          "model_module": "@jupyter-widgets/controls",
          "model_name": "HTMLModel",
          "model_module_version": "1.5.0",
          "state": {
            "_dom_classes": [],
            "_model_module": "@jupyter-widgets/controls",
            "_model_module_version": "1.5.0",
            "_model_name": "HTMLModel",
            "_view_count": null,
            "_view_module": "@jupyter-widgets/controls",
            "_view_module_version": "1.5.0",
            "_view_name": "HTMLView",
            "description": "",
            "description_tooltip": null,
            "layout": "IPY_MODEL_4d618030d3e64dce80093f2de6392430",
            "placeholder": "​",
            "style": "IPY_MODEL_f26379a9d59f4442805be66077b4bcd3",
            "value": " 1000/1000 [00:14&lt;00:00, 74.03it/s]"
          }
        },
        "f620218154094fba9de3d36e9c4cbda9": {
          "model_module": "@jupyter-widgets/base",
          "model_name": "LayoutModel",
          "model_module_version": "1.2.0",
          "state": {
            "_model_module": "@jupyter-widgets/base",
            "_model_module_version": "1.2.0",
            "_model_name": "LayoutModel",
            "_view_count": null,
            "_view_module": "@jupyter-widgets/base",
            "_view_module_version": "1.2.0",
            "_view_name": "LayoutView",
            "align_content": null,
            "align_items": null,
            "align_self": null,
            "border": null,
            "bottom": null,
            "display": null,
            "flex": null,
            "flex_flow": null,
            "grid_area": null,
            "grid_auto_columns": null,
            "grid_auto_flow": null,
            "grid_auto_rows": null,
            "grid_column": null,
            "grid_gap": null,
            "grid_row": null,
            "grid_template_areas": null,
            "grid_template_columns": null,
            "grid_template_rows": null,
            "height": null,
            "justify_content": null,
            "justify_items": null,
            "left": null,
            "margin": null,
            "max_height": null,
            "max_width": null,
            "min_height": null,
            "min_width": null,
            "object_fit": null,
            "object_position": null,
            "order": null,
            "overflow": null,
            "overflow_x": null,
            "overflow_y": null,
            "padding": null,
            "right": null,
            "top": null,
            "visibility": null,
            "width": null
          }
        },
        "bd5a5d2907a5470facd9a47b08767751": {
          "model_module": "@jupyter-widgets/base",
          "model_name": "LayoutModel",
          "model_module_version": "1.2.0",
          "state": {
            "_model_module": "@jupyter-widgets/base",
            "_model_module_version": "1.2.0",
            "_model_name": "LayoutModel",
            "_view_count": null,
            "_view_module": "@jupyter-widgets/base",
            "_view_module_version": "1.2.0",
            "_view_name": "LayoutView",
            "align_content": null,
            "align_items": null,
            "align_self": null,
            "border": null,
            "bottom": null,
            "display": null,
            "flex": null,
            "flex_flow": null,
            "grid_area": null,
            "grid_auto_columns": null,
            "grid_auto_flow": null,
            "grid_auto_rows": null,
            "grid_column": null,
            "grid_gap": null,
            "grid_row": null,
            "grid_template_areas": null,
            "grid_template_columns": null,
            "grid_template_rows": null,
            "height": null,
            "justify_content": null,
            "justify_items": null,
            "left": null,
            "margin": null,
            "max_height": null,
            "max_width": null,
            "min_height": null,
            "min_width": null,
            "object_fit": null,
            "object_position": null,
            "order": null,
            "overflow": null,
            "overflow_x": null,
            "overflow_y": null,
            "padding": null,
            "right": null,
            "top": null,
            "visibility": null,
            "width": null
          }
        },
        "3ccc5680af2a422c855c5997cee9b2c5": {
          "model_module": "@jupyter-widgets/controls",
          "model_name": "DescriptionStyleModel",
          "model_module_version": "1.5.0",
          "state": {
            "_model_module": "@jupyter-widgets/controls",
            "_model_module_version": "1.5.0",
            "_model_name": "DescriptionStyleModel",
            "_view_count": null,
            "_view_module": "@jupyter-widgets/base",
            "_view_module_version": "1.2.0",
            "_view_name": "StyleView",
            "description_width": ""
          }
        },
        "ae0cf172f40e4614873a3bba59d3c729": {
          "model_module": "@jupyter-widgets/base",
          "model_name": "LayoutModel",
          "model_module_version": "1.2.0",
          "state": {
            "_model_module": "@jupyter-widgets/base",
            "_model_module_version": "1.2.0",
            "_model_name": "LayoutModel",
            "_view_count": null,
            "_view_module": "@jupyter-widgets/base",
            "_view_module_version": "1.2.0",
            "_view_name": "LayoutView",
            "align_content": null,
            "align_items": null,
            "align_self": null,
            "border": null,
            "bottom": null,
            "display": null,
            "flex": null,
            "flex_flow": null,
            "grid_area": null,
            "grid_auto_columns": null,
            "grid_auto_flow": null,
            "grid_auto_rows": null,
            "grid_column": null,
            "grid_gap": null,
            "grid_row": null,
            "grid_template_areas": null,
            "grid_template_columns": null,
            "grid_template_rows": null,
            "height": null,
            "justify_content": null,
            "justify_items": null,
            "left": null,
            "margin": null,
            "max_height": null,
            "max_width": null,
            "min_height": null,
            "min_width": null,
            "object_fit": null,
            "object_position": null,
            "order": null,
            "overflow": null,
            "overflow_x": null,
            "overflow_y": null,
            "padding": null,
            "right": null,
            "top": null,
            "visibility": null,
            "width": null
          }
        },
        "bc8d36d43b9440b6b980fdc604d3007b": {
          "model_module": "@jupyter-widgets/controls",
          "model_name": "ProgressStyleModel",
          "model_module_version": "1.5.0",
          "state": {
            "_model_module": "@jupyter-widgets/controls",
            "_model_module_version": "1.5.0",
            "_model_name": "ProgressStyleModel",
            "_view_count": null,
            "_view_module": "@jupyter-widgets/base",
            "_view_module_version": "1.2.0",
            "_view_name": "StyleView",
            "bar_color": null,
            "description_width": ""
          }
        },
        "4d618030d3e64dce80093f2de6392430": {
          "model_module": "@jupyter-widgets/base",
          "model_name": "LayoutModel",
          "model_module_version": "1.2.0",
          "state": {
            "_model_module": "@jupyter-widgets/base",
            "_model_module_version": "1.2.0",
            "_model_name": "LayoutModel",
            "_view_count": null,
            "_view_module": "@jupyter-widgets/base",
            "_view_module_version": "1.2.0",
            "_view_name": "LayoutView",
            "align_content": null,
            "align_items": null,
            "align_self": null,
            "border": null,
            "bottom": null,
            "display": null,
            "flex": null,
            "flex_flow": null,
            "grid_area": null,
            "grid_auto_columns": null,
            "grid_auto_flow": null,
            "grid_auto_rows": null,
            "grid_column": null,
            "grid_gap": null,
            "grid_row": null,
            "grid_template_areas": null,
            "grid_template_columns": null,
            "grid_template_rows": null,
            "height": null,
            "justify_content": null,
            "justify_items": null,
            "left": null,
            "margin": null,
            "max_height": null,
            "max_width": null,
            "min_height": null,
            "min_width": null,
            "object_fit": null,
            "object_position": null,
            "order": null,
            "overflow": null,
            "overflow_x": null,
            "overflow_y": null,
            "padding": null,
            "right": null,
            "top": null,
            "visibility": null,
            "width": null
          }
        },
        "f26379a9d59f4442805be66077b4bcd3": {
          "model_module": "@jupyter-widgets/controls",
          "model_name": "DescriptionStyleModel",
          "model_module_version": "1.5.0",
          "state": {
            "_model_module": "@jupyter-widgets/controls",
            "_model_module_version": "1.5.0",
            "_model_name": "DescriptionStyleModel",
            "_view_count": null,
            "_view_module": "@jupyter-widgets/base",
            "_view_module_version": "1.2.0",
            "_view_name": "StyleView",
            "description_width": ""
          }
        },
        "9832de17afe541abb828a43443ab86ea": {
          "model_module": "@jupyter-widgets/controls",
          "model_name": "HBoxModel",
          "model_module_version": "1.5.0",
          "state": {
            "_dom_classes": [],
            "_model_module": "@jupyter-widgets/controls",
            "_model_module_version": "1.5.0",
            "_model_name": "HBoxModel",
            "_view_count": null,
            "_view_module": "@jupyter-widgets/controls",
            "_view_module_version": "1.5.0",
            "_view_name": "HBoxView",
            "box_style": "",
            "children": [
              "IPY_MODEL_b8e4ea638ac3411ea3e4a97ea823cf57",
              "IPY_MODEL_7ba97ad8a8f9450a981f60ecbe207ed2",
              "IPY_MODEL_e67151f55f274a4a9358ae79831c0be5"
            ],
            "layout": "IPY_MODEL_31cc7544f33d479aabab1bf4883575c5"
          }
        },
        "b8e4ea638ac3411ea3e4a97ea823cf57": {
          "model_module": "@jupyter-widgets/controls",
          "model_name": "HTMLModel",
          "model_module_version": "1.5.0",
          "state": {
            "_dom_classes": [],
            "_model_module": "@jupyter-widgets/controls",
            "_model_module_version": "1.5.0",
            "_model_name": "HTMLModel",
            "_view_count": null,
            "_view_module": "@jupyter-widgets/controls",
            "_view_module_version": "1.5.0",
            "_view_name": "HTMLView",
            "description": "",
            "description_tooltip": null,
            "layout": "IPY_MODEL_32e710047cbc4e0886594653a527e0a3",
            "placeholder": "​",
            "style": "IPY_MODEL_29483489a7734a8cb88ccaa509cfe211",
            "value": "Episode: 10 | Steps: 102 | Return: -129.93 | Epsilon: 1.00: 100%"
          }
        },
        "7ba97ad8a8f9450a981f60ecbe207ed2": {
          "model_module": "@jupyter-widgets/controls",
          "model_name": "FloatProgressModel",
          "model_module_version": "1.5.0",
          "state": {
            "_dom_classes": [],
            "_model_module": "@jupyter-widgets/controls",
            "_model_module_version": "1.5.0",
            "_model_name": "FloatProgressModel",
            "_view_count": null,
            "_view_module": "@jupyter-widgets/controls",
            "_view_module_version": "1.5.0",
            "_view_name": "ProgressView",
            "bar_style": "success",
            "description": "",
            "description_tooltip": null,
            "layout": "IPY_MODEL_da49eb51fc8c421ea0c79fe6455de60f",
            "max": 1000,
            "min": 0,
            "orientation": "horizontal",
            "style": "IPY_MODEL_cc08d25cee654d9dba01fa57e8910d23",
            "value": 1000
          }
        },
        "e67151f55f274a4a9358ae79831c0be5": {
          "model_module": "@jupyter-widgets/controls",
          "model_name": "HTMLModel",
          "model_module_version": "1.5.0",
          "state": {
            "_dom_classes": [],
            "_model_module": "@jupyter-widgets/controls",
            "_model_module_version": "1.5.0",
            "_model_name": "HTMLModel",
            "_view_count": null,
            "_view_module": "@jupyter-widgets/controls",
            "_view_module_version": "1.5.0",
            "_view_name": "HTMLView",
            "description": "",
            "description_tooltip": null,
            "layout": "IPY_MODEL_b1fa376da3b74156be0e49edc6a934ee",
            "placeholder": "​",
            "style": "IPY_MODEL_9328aec4cf0f4cc28a3d5643786a98c1",
            "value": " 1000/1000 [00:15&lt;00:00, 85.07it/s]"
          }
        },
        "31cc7544f33d479aabab1bf4883575c5": {
          "model_module": "@jupyter-widgets/base",
          "model_name": "LayoutModel",
          "model_module_version": "1.2.0",
          "state": {
            "_model_module": "@jupyter-widgets/base",
            "_model_module_version": "1.2.0",
            "_model_name": "LayoutModel",
            "_view_count": null,
            "_view_module": "@jupyter-widgets/base",
            "_view_module_version": "1.2.0",
            "_view_name": "LayoutView",
            "align_content": null,
            "align_items": null,
            "align_self": null,
            "border": null,
            "bottom": null,
            "display": null,
            "flex": null,
            "flex_flow": null,
            "grid_area": null,
            "grid_auto_columns": null,
            "grid_auto_flow": null,
            "grid_auto_rows": null,
            "grid_column": null,
            "grid_gap": null,
            "grid_row": null,
            "grid_template_areas": null,
            "grid_template_columns": null,
            "grid_template_rows": null,
            "height": null,
            "justify_content": null,
            "justify_items": null,
            "left": null,
            "margin": null,
            "max_height": null,
            "max_width": null,
            "min_height": null,
            "min_width": null,
            "object_fit": null,
            "object_position": null,
            "order": null,
            "overflow": null,
            "overflow_x": null,
            "overflow_y": null,
            "padding": null,
            "right": null,
            "top": null,
            "visibility": null,
            "width": null
          }
        },
        "32e710047cbc4e0886594653a527e0a3": {
          "model_module": "@jupyter-widgets/base",
          "model_name": "LayoutModel",
          "model_module_version": "1.2.0",
          "state": {
            "_model_module": "@jupyter-widgets/base",
            "_model_module_version": "1.2.0",
            "_model_name": "LayoutModel",
            "_view_count": null,
            "_view_module": "@jupyter-widgets/base",
            "_view_module_version": "1.2.0",
            "_view_name": "LayoutView",
            "align_content": null,
            "align_items": null,
            "align_self": null,
            "border": null,
            "bottom": null,
            "display": null,
            "flex": null,
            "flex_flow": null,
            "grid_area": null,
            "grid_auto_columns": null,
            "grid_auto_flow": null,
            "grid_auto_rows": null,
            "grid_column": null,
            "grid_gap": null,
            "grid_row": null,
            "grid_template_areas": null,
            "grid_template_columns": null,
            "grid_template_rows": null,
            "height": null,
            "justify_content": null,
            "justify_items": null,
            "left": null,
            "margin": null,
            "max_height": null,
            "max_width": null,
            "min_height": null,
            "min_width": null,
            "object_fit": null,
            "object_position": null,
            "order": null,
            "overflow": null,
            "overflow_x": null,
            "overflow_y": null,
            "padding": null,
            "right": null,
            "top": null,
            "visibility": null,
            "width": null
          }
        },
        "29483489a7734a8cb88ccaa509cfe211": {
          "model_module": "@jupyter-widgets/controls",
          "model_name": "DescriptionStyleModel",
          "model_module_version": "1.5.0",
          "state": {
            "_model_module": "@jupyter-widgets/controls",
            "_model_module_version": "1.5.0",
            "_model_name": "DescriptionStyleModel",
            "_view_count": null,
            "_view_module": "@jupyter-widgets/base",
            "_view_module_version": "1.2.0",
            "_view_name": "StyleView",
            "description_width": ""
          }
        },
        "da49eb51fc8c421ea0c79fe6455de60f": {
          "model_module": "@jupyter-widgets/base",
          "model_name": "LayoutModel",
          "model_module_version": "1.2.0",
          "state": {
            "_model_module": "@jupyter-widgets/base",
            "_model_module_version": "1.2.0",
            "_model_name": "LayoutModel",
            "_view_count": null,
            "_view_module": "@jupyter-widgets/base",
            "_view_module_version": "1.2.0",
            "_view_name": "LayoutView",
            "align_content": null,
            "align_items": null,
            "align_self": null,
            "border": null,
            "bottom": null,
            "display": null,
            "flex": null,
            "flex_flow": null,
            "grid_area": null,
            "grid_auto_columns": null,
            "grid_auto_flow": null,
            "grid_auto_rows": null,
            "grid_column": null,
            "grid_gap": null,
            "grid_row": null,
            "grid_template_areas": null,
            "grid_template_columns": null,
            "grid_template_rows": null,
            "height": null,
            "justify_content": null,
            "justify_items": null,
            "left": null,
            "margin": null,
            "max_height": null,
            "max_width": null,
            "min_height": null,
            "min_width": null,
            "object_fit": null,
            "object_position": null,
            "order": null,
            "overflow": null,
            "overflow_x": null,
            "overflow_y": null,
            "padding": null,
            "right": null,
            "top": null,
            "visibility": null,
            "width": null
          }
        },
        "cc08d25cee654d9dba01fa57e8910d23": {
          "model_module": "@jupyter-widgets/controls",
          "model_name": "ProgressStyleModel",
          "model_module_version": "1.5.0",
          "state": {
            "_model_module": "@jupyter-widgets/controls",
            "_model_module_version": "1.5.0",
            "_model_name": "ProgressStyleModel",
            "_view_count": null,
            "_view_module": "@jupyter-widgets/base",
            "_view_module_version": "1.2.0",
            "_view_name": "StyleView",
            "bar_color": null,
            "description_width": ""
          }
        },
        "b1fa376da3b74156be0e49edc6a934ee": {
          "model_module": "@jupyter-widgets/base",
          "model_name": "LayoutModel",
          "model_module_version": "1.2.0",
          "state": {
            "_model_module": "@jupyter-widgets/base",
            "_model_module_version": "1.2.0",
            "_model_name": "LayoutModel",
            "_view_count": null,
            "_view_module": "@jupyter-widgets/base",
            "_view_module_version": "1.2.0",
            "_view_name": "LayoutView",
            "align_content": null,
            "align_items": null,
            "align_self": null,
            "border": null,
            "bottom": null,
            "display": null,
            "flex": null,
            "flex_flow": null,
            "grid_area": null,
            "grid_auto_columns": null,
            "grid_auto_flow": null,
            "grid_auto_rows": null,
            "grid_column": null,
            "grid_gap": null,
            "grid_row": null,
            "grid_template_areas": null,
            "grid_template_columns": null,
            "grid_template_rows": null,
            "height": null,
            "justify_content": null,
            "justify_items": null,
            "left": null,
            "margin": null,
            "max_height": null,
            "max_width": null,
            "min_height": null,
            "min_width": null,
            "object_fit": null,
            "object_position": null,
            "order": null,
            "overflow": null,
            "overflow_x": null,
            "overflow_y": null,
            "padding": null,
            "right": null,
            "top": null,
            "visibility": null,
            "width": null
          }
        },
        "9328aec4cf0f4cc28a3d5643786a98c1": {
          "model_module": "@jupyter-widgets/controls",
          "model_name": "DescriptionStyleModel",
          "model_module_version": "1.5.0",
          "state": {
            "_model_module": "@jupyter-widgets/controls",
            "_model_module_version": "1.5.0",
            "_model_name": "DescriptionStyleModel",
            "_view_count": null,
            "_view_module": "@jupyter-widgets/base",
            "_view_module_version": "1.2.0",
            "_view_name": "StyleView",
            "description_width": ""
          }
        }
      }
    },
    "colab": {
      "name": "EX8 Q3.ipynb",
      "provenance": [],
      "collapsed_sections": []
    },
    "accelerator": "GPU"
  },
  "nbformat": 4,
  "nbformat_minor": 0
}