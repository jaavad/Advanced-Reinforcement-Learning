{
  "nbformat": 4,
  "nbformat_minor": 0,
  "metadata": {
    "colab": {
      "name": "EX8-Q1",
      "provenance": [],
      "collapsed_sections": []
    },
    "kernelspec": {
      "name": "python3",
      "display_name": "Python 3"
    },
    "language_info": {
      "name": "python"
    },
    "accelerator": "GPU",
    "widgets": {
      "application/vnd.jupyter.widget-state+json": {
        "d7284ad4603340b9a91b992ac64cc507": {
          "model_module": "@jupyter-widgets/controls",
          "model_name": "HBoxModel",
          "model_module_version": "1.5.0",
          "state": {
            "_dom_classes": [],
            "_model_module": "@jupyter-widgets/controls",
            "_model_module_version": "1.5.0",
            "_model_name": "HBoxModel",
            "_view_count": null,
            "_view_module": "@jupyter-widgets/controls",
            "_view_module_version": "1.5.0",
            "_view_name": "HBoxView",
            "box_style": "",
            "children": [
              "IPY_MODEL_cf9773fe14c94cabbf04d7148dfbfe90",
              "IPY_MODEL_a2119d5bfb9c421bbd7a1d26a9e15e51",
              "IPY_MODEL_af8e5e5aec3a4746a5658591f87b9dd8"
            ],
            "layout": "IPY_MODEL_7fbcc7086c424c3aa043b11b1ccc7cfc"
          }
        },
        "cf9773fe14c94cabbf04d7148dfbfe90": {
          "model_module": "@jupyter-widgets/controls",
          "model_name": "HTMLModel",
          "model_module_version": "1.5.0",
          "state": {
            "_dom_classes": [],
            "_model_module": "@jupyter-widgets/controls",
            "_model_module_version": "1.5.0",
            "_model_name": "HTMLModel",
            "_view_count": null,
            "_view_module": "@jupyter-widgets/controls",
            "_view_module_version": "1.5.0",
            "_view_name": "HTMLView",
            "description": "",
            "description_tooltip": null,
            "layout": "IPY_MODEL_a9d912ad88c9421f91793d7bacc92746",
            "placeholder": "​",
            "style": "IPY_MODEL_ffe835f8ccee470595027ed7e5a4cfc1",
            "value": "Episode: 99 | Batch_number: 15 | Batch_loss: 142.32 | Hidden_dim:     8: 100%"
          }
        },
        "a2119d5bfb9c421bbd7a1d26a9e15e51": {
          "model_module": "@jupyter-widgets/controls",
          "model_name": "FloatProgressModel",
          "model_module_version": "1.5.0",
          "state": {
            "_dom_classes": [],
            "_model_module": "@jupyter-widgets/controls",
            "_model_module_version": "1.5.0",
            "_model_name": "FloatProgressModel",
            "_view_count": null,
            "_view_module": "@jupyter-widgets/controls",
            "_view_module_version": "1.5.0",
            "_view_name": "ProgressView",
            "bar_style": "success",
            "description": "",
            "description_tooltip": null,
            "layout": "IPY_MODEL_9ed2795ffaa44e88a40e5c8a4868fafb",
            "max": 100,
            "min": 0,
            "orientation": "horizontal",
            "style": "IPY_MODEL_bc3ef12a64c24ee9b93a6ca4337282cb",
            "value": 100
          }
        },
        "af8e5e5aec3a4746a5658591f87b9dd8": {
          "model_module": "@jupyter-widgets/controls",
          "model_name": "HTMLModel",
          "model_module_version": "1.5.0",
          "state": {
            "_dom_classes": [],
            "_model_module": "@jupyter-widgets/controls",
            "_model_module_version": "1.5.0",
            "_model_name": "HTMLModel",
            "_view_count": null,
            "_view_module": "@jupyter-widgets/controls",
            "_view_module_version": "1.5.0",
            "_view_name": "HTMLView",
            "description": "",
            "description_tooltip": null,
            "layout": "IPY_MODEL_98680ea918b94d019a98bb8d8581d2c8",
            "placeholder": "​",
            "style": "IPY_MODEL_b079fb4a3d8e486b98f54763c7657540",
            "value": " 100/100 [00:06&lt;00:00, 15.32it/s]"
          }
        },
        "7fbcc7086c424c3aa043b11b1ccc7cfc": {
          "model_module": "@jupyter-widgets/base",
          "model_name": "LayoutModel",
          "model_module_version": "1.2.0",
          "state": {
            "_model_module": "@jupyter-widgets/base",
            "_model_module_version": "1.2.0",
            "_model_name": "LayoutModel",
            "_view_count": null,
            "_view_module": "@jupyter-widgets/base",
            "_view_module_version": "1.2.0",
            "_view_name": "LayoutView",
            "align_content": null,
            "align_items": null,
            "align_self": null,
            "border": null,
            "bottom": null,
            "display": null,
            "flex": null,
            "flex_flow": null,
            "grid_area": null,
            "grid_auto_columns": null,
            "grid_auto_flow": null,
            "grid_auto_rows": null,
            "grid_column": null,
            "grid_gap": null,
            "grid_row": null,
            "grid_template_areas": null,
            "grid_template_columns": null,
            "grid_template_rows": null,
            "height": null,
            "justify_content": null,
            "justify_items": null,
            "left": null,
            "margin": null,
            "max_height": null,
            "max_width": null,
            "min_height": null,
            "min_width": null,
            "object_fit": null,
            "object_position": null,
            "order": null,
            "overflow": null,
            "overflow_x": null,
            "overflow_y": null,
            "padding": null,
            "right": null,
            "top": null,
            "visibility": null,
            "width": null
          }
        },
        "a9d912ad88c9421f91793d7bacc92746": {
          "model_module": "@jupyter-widgets/base",
          "model_name": "LayoutModel",
          "model_module_version": "1.2.0",
          "state": {
            "_model_module": "@jupyter-widgets/base",
            "_model_module_version": "1.2.0",
            "_model_name": "LayoutModel",
            "_view_count": null,
            "_view_module": "@jupyter-widgets/base",
            "_view_module_version": "1.2.0",
            "_view_name": "LayoutView",
            "align_content": null,
            "align_items": null,
            "align_self": null,
            "border": null,
            "bottom": null,
            "display": null,
            "flex": null,
            "flex_flow": null,
            "grid_area": null,
            "grid_auto_columns": null,
            "grid_auto_flow": null,
            "grid_auto_rows": null,
            "grid_column": null,
            "grid_gap": null,
            "grid_row": null,
            "grid_template_areas": null,
            "grid_template_columns": null,
            "grid_template_rows": null,
            "height": null,
            "justify_content": null,
            "justify_items": null,
            "left": null,
            "margin": null,
            "max_height": null,
            "max_width": null,
            "min_height": null,
            "min_width": null,
            "object_fit": null,
            "object_position": null,
            "order": null,
            "overflow": null,
            "overflow_x": null,
            "overflow_y": null,
            "padding": null,
            "right": null,
            "top": null,
            "visibility": null,
            "width": null
          }
        },
        "ffe835f8ccee470595027ed7e5a4cfc1": {
          "model_module": "@jupyter-widgets/controls",
          "model_name": "DescriptionStyleModel",
          "model_module_version": "1.5.0",
          "state": {
            "_model_module": "@jupyter-widgets/controls",
            "_model_module_version": "1.5.0",
            "_model_name": "DescriptionStyleModel",
            "_view_count": null,
            "_view_module": "@jupyter-widgets/base",
            "_view_module_version": "1.2.0",
            "_view_name": "StyleView",
            "description_width": ""
          }
        },
        "9ed2795ffaa44e88a40e5c8a4868fafb": {
          "model_module": "@jupyter-widgets/base",
          "model_name": "LayoutModel",
          "model_module_version": "1.2.0",
          "state": {
            "_model_module": "@jupyter-widgets/base",
            "_model_module_version": "1.2.0",
            "_model_name": "LayoutModel",
            "_view_count": null,
            "_view_module": "@jupyter-widgets/base",
            "_view_module_version": "1.2.0",
            "_view_name": "LayoutView",
            "align_content": null,
            "align_items": null,
            "align_self": null,
            "border": null,
            "bottom": null,
            "display": null,
            "flex": null,
            "flex_flow": null,
            "grid_area": null,
            "grid_auto_columns": null,
            "grid_auto_flow": null,
            "grid_auto_rows": null,
            "grid_column": null,
            "grid_gap": null,
            "grid_row": null,
            "grid_template_areas": null,
            "grid_template_columns": null,
            "grid_template_rows": null,
            "height": null,
            "justify_content": null,
            "justify_items": null,
            "left": null,
            "margin": null,
            "max_height": null,
            "max_width": null,
            "min_height": null,
            "min_width": null,
            "object_fit": null,
            "object_position": null,
            "order": null,
            "overflow": null,
            "overflow_x": null,
            "overflow_y": null,
            "padding": null,
            "right": null,
            "top": null,
            "visibility": null,
            "width": null
          }
        },
        "bc3ef12a64c24ee9b93a6ca4337282cb": {
          "model_module": "@jupyter-widgets/controls",
          "model_name": "ProgressStyleModel",
          "model_module_version": "1.5.0",
          "state": {
            "_model_module": "@jupyter-widgets/controls",
            "_model_module_version": "1.5.0",
            "_model_name": "ProgressStyleModel",
            "_view_count": null,
            "_view_module": "@jupyter-widgets/base",
            "_view_module_version": "1.2.0",
            "_view_name": "StyleView",
            "bar_color": null,
            "description_width": ""
          }
        },
        "98680ea918b94d019a98bb8d8581d2c8": {
          "model_module": "@jupyter-widgets/base",
          "model_name": "LayoutModel",
          "model_module_version": "1.2.0",
          "state": {
            "_model_module": "@jupyter-widgets/base",
            "_model_module_version": "1.2.0",
            "_model_name": "LayoutModel",
            "_view_count": null,
            "_view_module": "@jupyter-widgets/base",
            "_view_module_version": "1.2.0",
            "_view_name": "LayoutView",
            "align_content": null,
            "align_items": null,
            "align_self": null,
            "border": null,
            "bottom": null,
            "display": null,
            "flex": null,
            "flex_flow": null,
            "grid_area": null,
            "grid_auto_columns": null,
            "grid_auto_flow": null,
            "grid_auto_rows": null,
            "grid_column": null,
            "grid_gap": null,
            "grid_row": null,
            "grid_template_areas": null,
            "grid_template_columns": null,
            "grid_template_rows": null,
            "height": null,
            "justify_content": null,
            "justify_items": null,
            "left": null,
            "margin": null,
            "max_height": null,
            "max_width": null,
            "min_height": null,
            "min_width": null,
            "object_fit": null,
            "object_position": null,
            "order": null,
            "overflow": null,
            "overflow_x": null,
            "overflow_y": null,
            "padding": null,
            "right": null,
            "top": null,
            "visibility": null,
            "width": null
          }
        },
        "b079fb4a3d8e486b98f54763c7657540": {
          "model_module": "@jupyter-widgets/controls",
          "model_name": "DescriptionStyleModel",
          "model_module_version": "1.5.0",
          "state": {
            "_model_module": "@jupyter-widgets/controls",
            "_model_module_version": "1.5.0",
            "_model_name": "DescriptionStyleModel",
            "_view_count": null,
            "_view_module": "@jupyter-widgets/base",
            "_view_module_version": "1.2.0",
            "_view_name": "StyleView",
            "description_width": ""
          }
        },
        "2db36a88c49c4b1e86377d0c562b8df4": {
          "model_module": "@jupyter-widgets/controls",
          "model_name": "HBoxModel",
          "model_module_version": "1.5.0",
          "state": {
            "_dom_classes": [],
            "_model_module": "@jupyter-widgets/controls",
            "_model_module_version": "1.5.0",
            "_model_name": "HBoxModel",
            "_view_count": null,
            "_view_module": "@jupyter-widgets/controls",
            "_view_module_version": "1.5.0",
            "_view_name": "HBoxView",
            "box_style": "",
            "children": [
              "IPY_MODEL_9658f4c6094c46f5aa53e9f50b43bba1",
              "IPY_MODEL_5f3b3f6796574d54ac60db4097a0008e",
              "IPY_MODEL_1db5634dae154a81b62510b8571496c3"
            ],
            "layout": "IPY_MODEL_86694e067e5d41d797d4cbe392c68012"
          }
        },
        "9658f4c6094c46f5aa53e9f50b43bba1": {
          "model_module": "@jupyter-widgets/controls",
          "model_name": "HTMLModel",
          "model_module_version": "1.5.0",
          "state": {
            "_dom_classes": [],
            "_model_module": "@jupyter-widgets/controls",
            "_model_module_version": "1.5.0",
            "_model_name": "HTMLModel",
            "_view_count": null,
            "_view_module": "@jupyter-widgets/controls",
            "_view_module_version": "1.5.0",
            "_view_name": "HTMLView",
            "description": "",
            "description_tooltip": null,
            "layout": "IPY_MODEL_a1dfc9e8ccbd47e3bea544b276c96894",
            "placeholder": "​",
            "style": "IPY_MODEL_4831e80d1d194bc9a968d3159cfd2369",
            "value": "Episode: 99 | Batch_number: 15 | Batch_loss: 50.69 | Hidden_dim:    16: 100%"
          }
        },
        "5f3b3f6796574d54ac60db4097a0008e": {
          "model_module": "@jupyter-widgets/controls",
          "model_name": "FloatProgressModel",
          "model_module_version": "1.5.0",
          "state": {
            "_dom_classes": [],
            "_model_module": "@jupyter-widgets/controls",
            "_model_module_version": "1.5.0",
            "_model_name": "FloatProgressModel",
            "_view_count": null,
            "_view_module": "@jupyter-widgets/controls",
            "_view_module_version": "1.5.0",
            "_view_name": "ProgressView",
            "bar_style": "success",
            "description": "",
            "description_tooltip": null,
            "layout": "IPY_MODEL_87f81a39dac049d98a38c12f8ee5bac8",
            "max": 100,
            "min": 0,
            "orientation": "horizontal",
            "style": "IPY_MODEL_e135bd45a8c24f5d992da880c36b6b7c",
            "value": 100
          }
        },
        "1db5634dae154a81b62510b8571496c3": {
          "model_module": "@jupyter-widgets/controls",
          "model_name": "HTMLModel",
          "model_module_version": "1.5.0",
          "state": {
            "_dom_classes": [],
            "_model_module": "@jupyter-widgets/controls",
            "_model_module_version": "1.5.0",
            "_model_name": "HTMLModel",
            "_view_count": null,
            "_view_module": "@jupyter-widgets/controls",
            "_view_module_version": "1.5.0",
            "_view_name": "HTMLView",
            "description": "",
            "description_tooltip": null,
            "layout": "IPY_MODEL_6add23c1ab814c9cb73593e50eaf114c",
            "placeholder": "​",
            "style": "IPY_MODEL_863c3e2406fc4af689b88c029519610e",
            "value": " 100/100 [00:06&lt;00:00, 14.97it/s]"
          }
        },
        "86694e067e5d41d797d4cbe392c68012": {
          "model_module": "@jupyter-widgets/base",
          "model_name": "LayoutModel",
          "model_module_version": "1.2.0",
          "state": {
            "_model_module": "@jupyter-widgets/base",
            "_model_module_version": "1.2.0",
            "_model_name": "LayoutModel",
            "_view_count": null,
            "_view_module": "@jupyter-widgets/base",
            "_view_module_version": "1.2.0",
            "_view_name": "LayoutView",
            "align_content": null,
            "align_items": null,
            "align_self": null,
            "border": null,
            "bottom": null,
            "display": null,
            "flex": null,
            "flex_flow": null,
            "grid_area": null,
            "grid_auto_columns": null,
            "grid_auto_flow": null,
            "grid_auto_rows": null,
            "grid_column": null,
            "grid_gap": null,
            "grid_row": null,
            "grid_template_areas": null,
            "grid_template_columns": null,
            "grid_template_rows": null,
            "height": null,
            "justify_content": null,
            "justify_items": null,
            "left": null,
            "margin": null,
            "max_height": null,
            "max_width": null,
            "min_height": null,
            "min_width": null,
            "object_fit": null,
            "object_position": null,
            "order": null,
            "overflow": null,
            "overflow_x": null,
            "overflow_y": null,
            "padding": null,
            "right": null,
            "top": null,
            "visibility": null,
            "width": null
          }
        },
        "a1dfc9e8ccbd47e3bea544b276c96894": {
          "model_module": "@jupyter-widgets/base",
          "model_name": "LayoutModel",
          "model_module_version": "1.2.0",
          "state": {
            "_model_module": "@jupyter-widgets/base",
            "_model_module_version": "1.2.0",
            "_model_name": "LayoutModel",
            "_view_count": null,
            "_view_module": "@jupyter-widgets/base",
            "_view_module_version": "1.2.0",
            "_view_name": "LayoutView",
            "align_content": null,
            "align_items": null,
            "align_self": null,
            "border": null,
            "bottom": null,
            "display": null,
            "flex": null,
            "flex_flow": null,
            "grid_area": null,
            "grid_auto_columns": null,
            "grid_auto_flow": null,
            "grid_auto_rows": null,
            "grid_column": null,
            "grid_gap": null,
            "grid_row": null,
            "grid_template_areas": null,
            "grid_template_columns": null,
            "grid_template_rows": null,
            "height": null,
            "justify_content": null,
            "justify_items": null,
            "left": null,
            "margin": null,
            "max_height": null,
            "max_width": null,
            "min_height": null,
            "min_width": null,
            "object_fit": null,
            "object_position": null,
            "order": null,
            "overflow": null,
            "overflow_x": null,
            "overflow_y": null,
            "padding": null,
            "right": null,
            "top": null,
            "visibility": null,
            "width": null
          }
        },
        "4831e80d1d194bc9a968d3159cfd2369": {
          "model_module": "@jupyter-widgets/controls",
          "model_name": "DescriptionStyleModel",
          "model_module_version": "1.5.0",
          "state": {
            "_model_module": "@jupyter-widgets/controls",
            "_model_module_version": "1.5.0",
            "_model_name": "DescriptionStyleModel",
            "_view_count": null,
            "_view_module": "@jupyter-widgets/base",
            "_view_module_version": "1.2.0",
            "_view_name": "StyleView",
            "description_width": ""
          }
        },
        "87f81a39dac049d98a38c12f8ee5bac8": {
          "model_module": "@jupyter-widgets/base",
          "model_name": "LayoutModel",
          "model_module_version": "1.2.0",
          "state": {
            "_model_module": "@jupyter-widgets/base",
            "_model_module_version": "1.2.0",
            "_model_name": "LayoutModel",
            "_view_count": null,
            "_view_module": "@jupyter-widgets/base",
            "_view_module_version": "1.2.0",
            "_view_name": "LayoutView",
            "align_content": null,
            "align_items": null,
            "align_self": null,
            "border": null,
            "bottom": null,
            "display": null,
            "flex": null,
            "flex_flow": null,
            "grid_area": null,
            "grid_auto_columns": null,
            "grid_auto_flow": null,
            "grid_auto_rows": null,
            "grid_column": null,
            "grid_gap": null,
            "grid_row": null,
            "grid_template_areas": null,
            "grid_template_columns": null,
            "grid_template_rows": null,
            "height": null,
            "justify_content": null,
            "justify_items": null,
            "left": null,
            "margin": null,
            "max_height": null,
            "max_width": null,
            "min_height": null,
            "min_width": null,
            "object_fit": null,
            "object_position": null,
            "order": null,
            "overflow": null,
            "overflow_x": null,
            "overflow_y": null,
            "padding": null,
            "right": null,
            "top": null,
            "visibility": null,
            "width": null
          }
        },
        "e135bd45a8c24f5d992da880c36b6b7c": {
          "model_module": "@jupyter-widgets/controls",
          "model_name": "ProgressStyleModel",
          "model_module_version": "1.5.0",
          "state": {
            "_model_module": "@jupyter-widgets/controls",
            "_model_module_version": "1.5.0",
            "_model_name": "ProgressStyleModel",
            "_view_count": null,
            "_view_module": "@jupyter-widgets/base",
            "_view_module_version": "1.2.0",
            "_view_name": "StyleView",
            "bar_color": null,
            "description_width": ""
          }
        },
        "6add23c1ab814c9cb73593e50eaf114c": {
          "model_module": "@jupyter-widgets/base",
          "model_name": "LayoutModel",
          "model_module_version": "1.2.0",
          "state": {
            "_model_module": "@jupyter-widgets/base",
            "_model_module_version": "1.2.0",
            "_model_name": "LayoutModel",
            "_view_count": null,
            "_view_module": "@jupyter-widgets/base",
            "_view_module_version": "1.2.0",
            "_view_name": "LayoutView",
            "align_content": null,
            "align_items": null,
            "align_self": null,
            "border": null,
            "bottom": null,
            "display": null,
            "flex": null,
            "flex_flow": null,
            "grid_area": null,
            "grid_auto_columns": null,
            "grid_auto_flow": null,
            "grid_auto_rows": null,
            "grid_column": null,
            "grid_gap": null,
            "grid_row": null,
            "grid_template_areas": null,
            "grid_template_columns": null,
            "grid_template_rows": null,
            "height": null,
            "justify_content": null,
            "justify_items": null,
            "left": null,
            "margin": null,
            "max_height": null,
            "max_width": null,
            "min_height": null,
            "min_width": null,
            "object_fit": null,
            "object_position": null,
            "order": null,
            "overflow": null,
            "overflow_x": null,
            "overflow_y": null,
            "padding": null,
            "right": null,
            "top": null,
            "visibility": null,
            "width": null
          }
        },
        "863c3e2406fc4af689b88c029519610e": {
          "model_module": "@jupyter-widgets/controls",
          "model_name": "DescriptionStyleModel",
          "model_module_version": "1.5.0",
          "state": {
            "_model_module": "@jupyter-widgets/controls",
            "_model_module_version": "1.5.0",
            "_model_name": "DescriptionStyleModel",
            "_view_count": null,
            "_view_module": "@jupyter-widgets/base",
            "_view_module_version": "1.2.0",
            "_view_name": "StyleView",
            "description_width": ""
          }
        },
        "20667f29e9a74b37babc9d48a3f54f4c": {
          "model_module": "@jupyter-widgets/controls",
          "model_name": "HBoxModel",
          "model_module_version": "1.5.0",
          "state": {
            "_dom_classes": [],
            "_model_module": "@jupyter-widgets/controls",
            "_model_module_version": "1.5.0",
            "_model_name": "HBoxModel",
            "_view_count": null,
            "_view_module": "@jupyter-widgets/controls",
            "_view_module_version": "1.5.0",
            "_view_name": "HBoxView",
            "box_style": "",
            "children": [
              "IPY_MODEL_d5307013a90b4a9f989acf95276dcaaf",
              "IPY_MODEL_ec1503a5d51d40e5a93793e42cf3df25",
              "IPY_MODEL_7a4dbdac605140de9c57694324f26e56"
            ],
            "layout": "IPY_MODEL_1fa641a917ad455ba383b84b821f11c7"
          }
        },
        "d5307013a90b4a9f989acf95276dcaaf": {
          "model_module": "@jupyter-widgets/controls",
          "model_name": "HTMLModel",
          "model_module_version": "1.5.0",
          "state": {
            "_dom_classes": [],
            "_model_module": "@jupyter-widgets/controls",
            "_model_module_version": "1.5.0",
            "_model_name": "HTMLModel",
            "_view_count": null,
            "_view_module": "@jupyter-widgets/controls",
            "_view_module_version": "1.5.0",
            "_view_name": "HTMLView",
            "description": "",
            "description_tooltip": null,
            "layout": "IPY_MODEL_5115d865f3ba4be391f227f32f084621",
            "placeholder": "​",
            "style": "IPY_MODEL_d8d62fdb2b3e4e69a7c95e3d59965657",
            "value": "Episode: 99 | Batch_number: 15 | Batch_loss:  5.00 | Hidden_dim:    64: 100%"
          }
        },
        "ec1503a5d51d40e5a93793e42cf3df25": {
          "model_module": "@jupyter-widgets/controls",
          "model_name": "FloatProgressModel",
          "model_module_version": "1.5.0",
          "state": {
            "_dom_classes": [],
            "_model_module": "@jupyter-widgets/controls",
            "_model_module_version": "1.5.0",
            "_model_name": "FloatProgressModel",
            "_view_count": null,
            "_view_module": "@jupyter-widgets/controls",
            "_view_module_version": "1.5.0",
            "_view_name": "ProgressView",
            "bar_style": "success",
            "description": "",
            "description_tooltip": null,
            "layout": "IPY_MODEL_0f8da4e6bad34069a7d8d6c72026e920",
            "max": 100,
            "min": 0,
            "orientation": "horizontal",
            "style": "IPY_MODEL_629f6085b40b4493910610d997e9358a",
            "value": 100
          }
        },
        "7a4dbdac605140de9c57694324f26e56": {
          "model_module": "@jupyter-widgets/controls",
          "model_name": "HTMLModel",
          "model_module_version": "1.5.0",
          "state": {
            "_dom_classes": [],
            "_model_module": "@jupyter-widgets/controls",
            "_model_module_version": "1.5.0",
            "_model_name": "HTMLModel",
            "_view_count": null,
            "_view_module": "@jupyter-widgets/controls",
            "_view_module_version": "1.5.0",
            "_view_name": "HTMLView",
            "description": "",
            "description_tooltip": null,
            "layout": "IPY_MODEL_84dafd5e7b5b457ba0d9062df9904cea",
            "placeholder": "​",
            "style": "IPY_MODEL_b8a76a55378c4cbeb95134a421dfe80e",
            "value": " 100/100 [00:06&lt;00:00, 14.38it/s]"
          }
        },
        "1fa641a917ad455ba383b84b821f11c7": {
          "model_module": "@jupyter-widgets/base",
          "model_name": "LayoutModel",
          "model_module_version": "1.2.0",
          "state": {
            "_model_module": "@jupyter-widgets/base",
            "_model_module_version": "1.2.0",
            "_model_name": "LayoutModel",
            "_view_count": null,
            "_view_module": "@jupyter-widgets/base",
            "_view_module_version": "1.2.0",
            "_view_name": "LayoutView",
            "align_content": null,
            "align_items": null,
            "align_self": null,
            "border": null,
            "bottom": null,
            "display": null,
            "flex": null,
            "flex_flow": null,
            "grid_area": null,
            "grid_auto_columns": null,
            "grid_auto_flow": null,
            "grid_auto_rows": null,
            "grid_column": null,
            "grid_gap": null,
            "grid_row": null,
            "grid_template_areas": null,
            "grid_template_columns": null,
            "grid_template_rows": null,
            "height": null,
            "justify_content": null,
            "justify_items": null,
            "left": null,
            "margin": null,
            "max_height": null,
            "max_width": null,
            "min_height": null,
            "min_width": null,
            "object_fit": null,
            "object_position": null,
            "order": null,
            "overflow": null,
            "overflow_x": null,
            "overflow_y": null,
            "padding": null,
            "right": null,
            "top": null,
            "visibility": null,
            "width": null
          }
        },
        "5115d865f3ba4be391f227f32f084621": {
          "model_module": "@jupyter-widgets/base",
          "model_name": "LayoutModel",
          "model_module_version": "1.2.0",
          "state": {
            "_model_module": "@jupyter-widgets/base",
            "_model_module_version": "1.2.0",
            "_model_name": "LayoutModel",
            "_view_count": null,
            "_view_module": "@jupyter-widgets/base",
            "_view_module_version": "1.2.0",
            "_view_name": "LayoutView",
            "align_content": null,
            "align_items": null,
            "align_self": null,
            "border": null,
            "bottom": null,
            "display": null,
            "flex": null,
            "flex_flow": null,
            "grid_area": null,
            "grid_auto_columns": null,
            "grid_auto_flow": null,
            "grid_auto_rows": null,
            "grid_column": null,
            "grid_gap": null,
            "grid_row": null,
            "grid_template_areas": null,
            "grid_template_columns": null,
            "grid_template_rows": null,
            "height": null,
            "justify_content": null,
            "justify_items": null,
            "left": null,
            "margin": null,
            "max_height": null,
            "max_width": null,
            "min_height": null,
            "min_width": null,
            "object_fit": null,
            "object_position": null,
            "order": null,
            "overflow": null,
            "overflow_x": null,
            "overflow_y": null,
            "padding": null,
            "right": null,
            "top": null,
            "visibility": null,
            "width": null
          }
        },
        "d8d62fdb2b3e4e69a7c95e3d59965657": {
          "model_module": "@jupyter-widgets/controls",
          "model_name": "DescriptionStyleModel",
          "model_module_version": "1.5.0",
          "state": {
            "_model_module": "@jupyter-widgets/controls",
            "_model_module_version": "1.5.0",
            "_model_name": "DescriptionStyleModel",
            "_view_count": null,
            "_view_module": "@jupyter-widgets/base",
            "_view_module_version": "1.2.0",
            "_view_name": "StyleView",
            "description_width": ""
          }
        },
        "0f8da4e6bad34069a7d8d6c72026e920": {
          "model_module": "@jupyter-widgets/base",
          "model_name": "LayoutModel",
          "model_module_version": "1.2.0",
          "state": {
            "_model_module": "@jupyter-widgets/base",
            "_model_module_version": "1.2.0",
            "_model_name": "LayoutModel",
            "_view_count": null,
            "_view_module": "@jupyter-widgets/base",
            "_view_module_version": "1.2.0",
            "_view_name": "LayoutView",
            "align_content": null,
            "align_items": null,
            "align_self": null,
            "border": null,
            "bottom": null,
            "display": null,
            "flex": null,
            "flex_flow": null,
            "grid_area": null,
            "grid_auto_columns": null,
            "grid_auto_flow": null,
            "grid_auto_rows": null,
            "grid_column": null,
            "grid_gap": null,
            "grid_row": null,
            "grid_template_areas": null,
            "grid_template_columns": null,
            "grid_template_rows": null,
            "height": null,
            "justify_content": null,
            "justify_items": null,
            "left": null,
            "margin": null,
            "max_height": null,
            "max_width": null,
            "min_height": null,
            "min_width": null,
            "object_fit": null,
            "object_position": null,
            "order": null,
            "overflow": null,
            "overflow_x": null,
            "overflow_y": null,
            "padding": null,
            "right": null,
            "top": null,
            "visibility": null,
            "width": null
          }
        },
        "629f6085b40b4493910610d997e9358a": {
          "model_module": "@jupyter-widgets/controls",
          "model_name": "ProgressStyleModel",
          "model_module_version": "1.5.0",
          "state": {
            "_model_module": "@jupyter-widgets/controls",
            "_model_module_version": "1.5.0",
            "_model_name": "ProgressStyleModel",
            "_view_count": null,
            "_view_module": "@jupyter-widgets/base",
            "_view_module_version": "1.2.0",
            "_view_name": "StyleView",
            "bar_color": null,
            "description_width": ""
          }
        },
        "84dafd5e7b5b457ba0d9062df9904cea": {
          "model_module": "@jupyter-widgets/base",
          "model_name": "LayoutModel",
          "model_module_version": "1.2.0",
          "state": {
            "_model_module": "@jupyter-widgets/base",
            "_model_module_version": "1.2.0",
            "_model_name": "LayoutModel",
            "_view_count": null,
            "_view_module": "@jupyter-widgets/base",
            "_view_module_version": "1.2.0",
            "_view_name": "LayoutView",
            "align_content": null,
            "align_items": null,
            "align_self": null,
            "border": null,
            "bottom": null,
            "display": null,
            "flex": null,
            "flex_flow": null,
            "grid_area": null,
            "grid_auto_columns": null,
            "grid_auto_flow": null,
            "grid_auto_rows": null,
            "grid_column": null,
            "grid_gap": null,
            "grid_row": null,
            "grid_template_areas": null,
            "grid_template_columns": null,
            "grid_template_rows": null,
            "height": null,
            "justify_content": null,
            "justify_items": null,
            "left": null,
            "margin": null,
            "max_height": null,
            "max_width": null,
            "min_height": null,
            "min_width": null,
            "object_fit": null,
            "object_position": null,
            "order": null,
            "overflow": null,
            "overflow_x": null,
            "overflow_y": null,
            "padding": null,
            "right": null,
            "top": null,
            "visibility": null,
            "width": null
          }
        },
        "b8a76a55378c4cbeb95134a421dfe80e": {
          "model_module": "@jupyter-widgets/controls",
          "model_name": "DescriptionStyleModel",
          "model_module_version": "1.5.0",
          "state": {
            "_model_module": "@jupyter-widgets/controls",
            "_model_module_version": "1.5.0",
            "_model_name": "DescriptionStyleModel",
            "_view_count": null,
            "_view_module": "@jupyter-widgets/base",
            "_view_module_version": "1.2.0",
            "_view_name": "StyleView",
            "description_width": ""
          }
        },
        "e1e9d590796547cab122b27d0deadeb7": {
          "model_module": "@jupyter-widgets/controls",
          "model_name": "HBoxModel",
          "model_module_version": "1.5.0",
          "state": {
            "_dom_classes": [],
            "_model_module": "@jupyter-widgets/controls",
            "_model_module_version": "1.5.0",
            "_model_name": "HBoxModel",
            "_view_count": null,
            "_view_module": "@jupyter-widgets/controls",
            "_view_module_version": "1.5.0",
            "_view_name": "HBoxView",
            "box_style": "",
            "children": [
              "IPY_MODEL_86347737e1a04f42b38ef65e3e85c922",
              "IPY_MODEL_72465068b7894ec58db0c3a848c0bc6b",
              "IPY_MODEL_0f3789203d2942a3b85620d58358601d"
            ],
            "layout": "IPY_MODEL_2024d2038c104b35b414ade1f6e83fdd"
          }
        },
        "86347737e1a04f42b38ef65e3e85c922": {
          "model_module": "@jupyter-widgets/controls",
          "model_name": "HTMLModel",
          "model_module_version": "1.5.0",
          "state": {
            "_dom_classes": [],
            "_model_module": "@jupyter-widgets/controls",
            "_model_module_version": "1.5.0",
            "_model_name": "HTMLModel",
            "_view_count": null,
            "_view_module": "@jupyter-widgets/controls",
            "_view_module_version": "1.5.0",
            "_view_name": "HTMLView",
            "description": "",
            "description_tooltip": null,
            "layout": "IPY_MODEL_983372c031334f9983277fc7aead387e",
            "placeholder": "​",
            "style": "IPY_MODEL_664d7cb78b5b4e1f8bee933887afc436",
            "value": "Episode: 99 | Batch_number: 15 | Batch_loss:  3.04 | Hidden_dim: 1.3e+02: 100%"
          }
        },
        "72465068b7894ec58db0c3a848c0bc6b": {
          "model_module": "@jupyter-widgets/controls",
          "model_name": "FloatProgressModel",
          "model_module_version": "1.5.0",
          "state": {
            "_dom_classes": [],
            "_model_module": "@jupyter-widgets/controls",
            "_model_module_version": "1.5.0",
            "_model_name": "FloatProgressModel",
            "_view_count": null,
            "_view_module": "@jupyter-widgets/controls",
            "_view_module_version": "1.5.0",
            "_view_name": "ProgressView",
            "bar_style": "success",
            "description": "",
            "description_tooltip": null,
            "layout": "IPY_MODEL_ee4a364d18494a0db35ccc26b19855a1",
            "max": 100,
            "min": 0,
            "orientation": "horizontal",
            "style": "IPY_MODEL_fe15ceedbb384a2ebde5c11d287559ef",
            "value": 100
          }
        },
        "0f3789203d2942a3b85620d58358601d": {
          "model_module": "@jupyter-widgets/controls",
          "model_name": "HTMLModel",
          "model_module_version": "1.5.0",
          "state": {
            "_dom_classes": [],
            "_model_module": "@jupyter-widgets/controls",
            "_model_module_version": "1.5.0",
            "_model_name": "HTMLModel",
            "_view_count": null,
            "_view_module": "@jupyter-widgets/controls",
            "_view_module_version": "1.5.0",
            "_view_name": "HTMLView",
            "description": "",
            "description_tooltip": null,
            "layout": "IPY_MODEL_5748709bd4174f3e953e1030b12a876c",
            "placeholder": "​",
            "style": "IPY_MODEL_fee06599affd4b10abf5c0fe852e3751",
            "value": " 100/100 [00:08&lt;00:00, 11.91it/s]"
          }
        },
        "2024d2038c104b35b414ade1f6e83fdd": {
          "model_module": "@jupyter-widgets/base",
          "model_name": "LayoutModel",
          "model_module_version": "1.2.0",
          "state": {
            "_model_module": "@jupyter-widgets/base",
            "_model_module_version": "1.2.0",
            "_model_name": "LayoutModel",
            "_view_count": null,
            "_view_module": "@jupyter-widgets/base",
            "_view_module_version": "1.2.0",
            "_view_name": "LayoutView",
            "align_content": null,
            "align_items": null,
            "align_self": null,
            "border": null,
            "bottom": null,
            "display": null,
            "flex": null,
            "flex_flow": null,
            "grid_area": null,
            "grid_auto_columns": null,
            "grid_auto_flow": null,
            "grid_auto_rows": null,
            "grid_column": null,
            "grid_gap": null,
            "grid_row": null,
            "grid_template_areas": null,
            "grid_template_columns": null,
            "grid_template_rows": null,
            "height": null,
            "justify_content": null,
            "justify_items": null,
            "left": null,
            "margin": null,
            "max_height": null,
            "max_width": null,
            "min_height": null,
            "min_width": null,
            "object_fit": null,
            "object_position": null,
            "order": null,
            "overflow": null,
            "overflow_x": null,
            "overflow_y": null,
            "padding": null,
            "right": null,
            "top": null,
            "visibility": null,
            "width": null
          }
        },
        "983372c031334f9983277fc7aead387e": {
          "model_module": "@jupyter-widgets/base",
          "model_name": "LayoutModel",
          "model_module_version": "1.2.0",
          "state": {
            "_model_module": "@jupyter-widgets/base",
            "_model_module_version": "1.2.0",
            "_model_name": "LayoutModel",
            "_view_count": null,
            "_view_module": "@jupyter-widgets/base",
            "_view_module_version": "1.2.0",
            "_view_name": "LayoutView",
            "align_content": null,
            "align_items": null,
            "align_self": null,
            "border": null,
            "bottom": null,
            "display": null,
            "flex": null,
            "flex_flow": null,
            "grid_area": null,
            "grid_auto_columns": null,
            "grid_auto_flow": null,
            "grid_auto_rows": null,
            "grid_column": null,
            "grid_gap": null,
            "grid_row": null,
            "grid_template_areas": null,
            "grid_template_columns": null,
            "grid_template_rows": null,
            "height": null,
            "justify_content": null,
            "justify_items": null,
            "left": null,
            "margin": null,
            "max_height": null,
            "max_width": null,
            "min_height": null,
            "min_width": null,
            "object_fit": null,
            "object_position": null,
            "order": null,
            "overflow": null,
            "overflow_x": null,
            "overflow_y": null,
            "padding": null,
            "right": null,
            "top": null,
            "visibility": null,
            "width": null
          }
        },
        "664d7cb78b5b4e1f8bee933887afc436": {
          "model_module": "@jupyter-widgets/controls",
          "model_name": "DescriptionStyleModel",
          "model_module_version": "1.5.0",
          "state": {
            "_model_module": "@jupyter-widgets/controls",
            "_model_module_version": "1.5.0",
            "_model_name": "DescriptionStyleModel",
            "_view_count": null,
            "_view_module": "@jupyter-widgets/base",
            "_view_module_version": "1.2.0",
            "_view_name": "StyleView",
            "description_width": ""
          }
        },
        "ee4a364d18494a0db35ccc26b19855a1": {
          "model_module": "@jupyter-widgets/base",
          "model_name": "LayoutModel",
          "model_module_version": "1.2.0",
          "state": {
            "_model_module": "@jupyter-widgets/base",
            "_model_module_version": "1.2.0",
            "_model_name": "LayoutModel",
            "_view_count": null,
            "_view_module": "@jupyter-widgets/base",
            "_view_module_version": "1.2.0",
            "_view_name": "LayoutView",
            "align_content": null,
            "align_items": null,
            "align_self": null,
            "border": null,
            "bottom": null,
            "display": null,
            "flex": null,
            "flex_flow": null,
            "grid_area": null,
            "grid_auto_columns": null,
            "grid_auto_flow": null,
            "grid_auto_rows": null,
            "grid_column": null,
            "grid_gap": null,
            "grid_row": null,
            "grid_template_areas": null,
            "grid_template_columns": null,
            "grid_template_rows": null,
            "height": null,
            "justify_content": null,
            "justify_items": null,
            "left": null,
            "margin": null,
            "max_height": null,
            "max_width": null,
            "min_height": null,
            "min_width": null,
            "object_fit": null,
            "object_position": null,
            "order": null,
            "overflow": null,
            "overflow_x": null,
            "overflow_y": null,
            "padding": null,
            "right": null,
            "top": null,
            "visibility": null,
            "width": null
          }
        },
        "fe15ceedbb384a2ebde5c11d287559ef": {
          "model_module": "@jupyter-widgets/controls",
          "model_name": "ProgressStyleModel",
          "model_module_version": "1.5.0",
          "state": {
            "_model_module": "@jupyter-widgets/controls",
            "_model_module_version": "1.5.0",
            "_model_name": "ProgressStyleModel",
            "_view_count": null,
            "_view_module": "@jupyter-widgets/base",
            "_view_module_version": "1.2.0",
            "_view_name": "StyleView",
            "bar_color": null,
            "description_width": ""
          }
        },
        "5748709bd4174f3e953e1030b12a876c": {
          "model_module": "@jupyter-widgets/base",
          "model_name": "LayoutModel",
          "model_module_version": "1.2.0",
          "state": {
            "_model_module": "@jupyter-widgets/base",
            "_model_module_version": "1.2.0",
            "_model_name": "LayoutModel",
            "_view_count": null,
            "_view_module": "@jupyter-widgets/base",
            "_view_module_version": "1.2.0",
            "_view_name": "LayoutView",
            "align_content": null,
            "align_items": null,
            "align_self": null,
            "border": null,
            "bottom": null,
            "display": null,
            "flex": null,
            "flex_flow": null,
            "grid_area": null,
            "grid_auto_columns": null,
            "grid_auto_flow": null,
            "grid_auto_rows": null,
            "grid_column": null,
            "grid_gap": null,
            "grid_row": null,
            "grid_template_areas": null,
            "grid_template_columns": null,
            "grid_template_rows": null,
            "height": null,
            "justify_content": null,
            "justify_items": null,
            "left": null,
            "margin": null,
            "max_height": null,
            "max_width": null,
            "min_height": null,
            "min_width": null,
            "object_fit": null,
            "object_position": null,
            "order": null,
            "overflow": null,
            "overflow_x": null,
            "overflow_y": null,
            "padding": null,
            "right": null,
            "top": null,
            "visibility": null,
            "width": null
          }
        },
        "fee06599affd4b10abf5c0fe852e3751": {
          "model_module": "@jupyter-widgets/controls",
          "model_name": "DescriptionStyleModel",
          "model_module_version": "1.5.0",
          "state": {
            "_model_module": "@jupyter-widgets/controls",
            "_model_module_version": "1.5.0",
            "_model_name": "DescriptionStyleModel",
            "_view_count": null,
            "_view_module": "@jupyter-widgets/base",
            "_view_module_version": "1.2.0",
            "_view_name": "StyleView",
            "description_width": ""
          }
        }
      }
    }
  },
  "cells": [
    {
      "cell_type": "markdown",
      "source": [
        "#### Question 1"
      ],
      "metadata": {
        "id": "j2xhDp0BoIuo"
      }
    },
    {
      "cell_type": "code",
      "source": [
        "import copy\n",
        "import math\n",
        "import os\n",
        "from collections import namedtuple\n",
        "import gym\n",
        "import ipywidgets as widgets\n",
        "import matplotlib.pyplot as plt\n",
        "import more_itertools as mitt\n",
        "import numpy as np\n",
        "import torch\n",
        "import torch.nn as nn\n",
        "import torch.nn.init as init\n",
        "import tqdm"
      ],
      "metadata": {
        "id": "yRvCPGesoGMq"
      },
      "execution_count": null,
      "outputs": []
    },
    {
      "cell_type": "markdown",
      "source": [
        "#### Parts a, b, c"
      ],
      "metadata": {
        "id": "4SeA7OQ0oqJx"
      }
    },
    {
      "cell_type": "code",
      "source": [
        "input=np.linspace(-10, 10, 500)\n",
        "input=torch.Tensor([input])\n",
        "input=torch.t(input)\n",
        "\n",
        "def F(x):\n",
        "  y=x**2+1\n",
        "  return y\n",
        "output=F(input)\n",
        "\n",
        "dataset=torch.column_stack((input,output))"
      ],
      "metadata": {
        "colab": {
          "base_uri": "https://localhost:8080/"
        },
        "id": "HKSDmbYGl6kG",
        "outputId": "cd1ea8bf-a04f-4c20-9055-d81b8485e891"
      },
      "execution_count": 2,
      "outputs": [
        {
          "output_type": "stream",
          "name": "stderr",
          "text": [
            "/usr/local/lib/python3.7/dist-packages/ipykernel_launcher.py:2: UserWarning: Creating a tensor from a list of numpy.ndarrays is extremely slow. Please consider converting the list to a single numpy.ndarray with numpy.array() before converting to a tensor. (Triggered internally at  ../torch/csrc/utils/tensor_new.cpp:201.)\n",
            "  \n"
          ]
        }
      ]
    },
    {
      "cell_type": "code",
      "source": [
        "\n",
        "class MLP(nn.Module):\n",
        "    \n",
        "    def __init__(self, input_dim=1, num_layers=3, hidden_dim=8,output_dim=1):\n",
        "        \"\"\"\n",
        "        MLP Model\n",
        "        \"\"\"\n",
        "        super(MLP, self).__init__()\n",
        "        self.input_dim = input_dim\n",
        "        self.num_layers = num_layers\n",
        "        self.hidden_dim = hidden_dim\n",
        "        \n",
        "        layer_map = []\n",
        "        layer_map.append(nn.Linear(self.input_dim,self.hidden_dim)) # input layer\n",
        "        layer_map.append(nn.ReLU())\n",
        "\n",
        "\n",
        "        for i in range(2,num_layers):\n",
        "            layer_map.append(nn.Linear(self.hidden_dim,self.hidden_dim))\n",
        "            layer_map.append(nn.ReLU())\n",
        "            \n",
        "        layer_map.append(nn.Linear(self.hidden_dim,1)) # output layer\n",
        "        layer_map.append(nn.Identity())  ####???\n",
        "        \n",
        "        self.model = nn.Sequential(*layer_map)\n",
        "\n",
        "   \n",
        "\n",
        "\n",
        "    def forward(self, inputs) -> torch.Tensor:\n",
        "        \"\"\"\n",
        "        Forward function\n",
        "\n",
        "        \"\"\"\n",
        "\n",
        "        return self.model(inputs)"
      ],
      "metadata": {
        "id": "PmWcs4NbWF6Q"
      },
      "execution_count": 3,
      "outputs": []
    },
    {
      "cell_type": "code",
      "source": [
        "def train_MLP_batch(optimizer, batch, MLP_model) -> float:\n",
        "    \"\"\"Perform a single batch-update step on the given MLP model.\n",
        "\n",
        "    \"\"\"\n",
        " \n",
        "    inputs= batch[:,0]\n",
        "    labls=batch[:,1].reshape(*batch[:,1].shape,1)\n",
        "    outputs = MLP_model(inputs.reshape(*inputs.shape,1))\n",
        "\n",
        "    # computing the scalar MSE loss between computed labls and the outputs\n",
        "    loss = nn.functional.mse_loss(outputs, labls)\n",
        "\n",
        "    optimizer.zero_grad()  # reset all previous gradients\n",
        "    loss.backward()  # compute new gradients\n",
        "    optimizer.step()  # perform one gradient descent step\n",
        "\n",
        "    return loss.item()"
      ],
      "metadata": {
        "id": "QUxMj6vFOAma"
      },
      "execution_count": 4,
      "outputs": []
    },
    {
      "cell_type": "code",
      "source": [
        "def train_MLP(\n",
        "    \n",
        "    input_dim,\n",
        "    num_layers,\n",
        "    hidden_dim,\n",
        "    output_dim,\n",
        "    batch_size ,\n",
        "    num_episods,\n",
        "    dataset,\n",
        "):\n",
        "\n",
        "    # initialize the MLP\n",
        "    MLP_model = MLP(input_dim=input_dim, num_layers=num_layers, hidden_dim=hidden_dim, output_dim=output_dim)\n",
        "   \n",
        "    # initialize the optimizer\n",
        "    optimizer = torch.optim.Adam(MLP_model.parameters())\n",
        "    episods = tqdm.notebook.tnrange(num_episods)\n",
        "    losses=torch.zeros(num_episods)\n",
        "\n",
        "    for i in episods:\n",
        "\n",
        "        \n",
        "        inputs_size=dataset.shape[0]\n",
        "\n",
        "        num_batches = math.ceil(inputs_size/batch_size)\n",
        "        batch_list = [dataset[batch_size*y:batch_size*(y+1),:] for y in range(num_batches)]\n",
        "\n",
        "        jj=1\n",
        "\n",
        "        for j in range(num_batches):  \n",
        "            \n",
        "            loss = train_MLP_batch(optimizer, batch_list[j], MLP_model)\n",
        "\n",
        "            episods.set_description(\n",
        "                f'Episode: {i} | Batch_number: {j} | Batch_loss: {loss:5.2f} | Hidden_dim: {hidden_dim:5.2g}'\n",
        "            )\n",
        "\n",
        "\n",
        "        losses[i]=loss\n",
        "\n",
        "    trained_models=MLP_model\n",
        "    trained_models = copy.deepcopy(MLP_model)\n",
        "\n",
        "    return (\n",
        "        trained_models,\n",
        "        losses,\n",
        "    )"
      ],
      "metadata": {
        "id": "miRXe1HCuael"
      },
      "execution_count": 5,
      "outputs": []
    },
    {
      "cell_type": "code",
      "source": [
        "input=np.linspace(-10, 10, 500)\n",
        "input=torch.Tensor([input])\n",
        "input=torch.t(input)\n",
        "\n",
        "def F(x):\n",
        "  y=x**2+1\n",
        "  return y\n",
        "output=F(input)\n",
        "\n",
        "dataset=torch.column_stack((input,output))"
      ],
      "metadata": {
        "id": "OamQxayzlaHD"
      },
      "execution_count": 6,
      "outputs": []
    },
    {
      "cell_type": "code",
      "source": [
        "input_dim=1\n",
        "num_layers=3\n",
        "output_dim=1\n",
        "batch_size = 32\n",
        "num_episods=100\n",
        "hidden_dims=[8,16,64,128]\n",
        "\n",
        "losses_list=torch.zeros(len(hidden_dims),num_episods)\n",
        "jj=0\n",
        "\n",
        "for i in hidden_dims:\n",
        "\n",
        "  r=torch.randperm(dataset.shape[0])\n",
        "  dataset=dataset[r]\n",
        "\n",
        "  trained_model, losses = train_MLP(\n",
        "      input_dim= input_dim,\n",
        "      num_layers= num_layers,\n",
        "      hidden_dim= hidden_dims[jj],\n",
        "      output_dim= output_dim,\n",
        "      batch_size = batch_size,\n",
        "      num_episods= num_episods,\n",
        "      dataset=dataset,\n",
        "  )\n",
        "  print(losses)\n",
        "  losses_list[jj,:]=losses\n",
        "  jj+=1\n",
        "  "
      ],
      "metadata": {
        "colab": {
          "base_uri": "https://localhost:8080/",
          "height": 1000,
          "referenced_widgets": [
            "d7284ad4603340b9a91b992ac64cc507",
            "cf9773fe14c94cabbf04d7148dfbfe90",
            "a2119d5bfb9c421bbd7a1d26a9e15e51",
            "af8e5e5aec3a4746a5658591f87b9dd8",
            "7fbcc7086c424c3aa043b11b1ccc7cfc",
            "a9d912ad88c9421f91793d7bacc92746",
            "ffe835f8ccee470595027ed7e5a4cfc1",
            "9ed2795ffaa44e88a40e5c8a4868fafb",
            "bc3ef12a64c24ee9b93a6ca4337282cb",
            "98680ea918b94d019a98bb8d8581d2c8",
            "b079fb4a3d8e486b98f54763c7657540",
            "2db36a88c49c4b1e86377d0c562b8df4",
            "9658f4c6094c46f5aa53e9f50b43bba1",
            "5f3b3f6796574d54ac60db4097a0008e",
            "1db5634dae154a81b62510b8571496c3",
            "86694e067e5d41d797d4cbe392c68012",
            "a1dfc9e8ccbd47e3bea544b276c96894",
            "4831e80d1d194bc9a968d3159cfd2369",
            "87f81a39dac049d98a38c12f8ee5bac8",
            "e135bd45a8c24f5d992da880c36b6b7c",
            "6add23c1ab814c9cb73593e50eaf114c",
            "863c3e2406fc4af689b88c029519610e",
            "20667f29e9a74b37babc9d48a3f54f4c",
            "d5307013a90b4a9f989acf95276dcaaf",
            "ec1503a5d51d40e5a93793e42cf3df25",
            "7a4dbdac605140de9c57694324f26e56",
            "1fa641a917ad455ba383b84b821f11c7",
            "5115d865f3ba4be391f227f32f084621",
            "d8d62fdb2b3e4e69a7c95e3d59965657",
            "0f8da4e6bad34069a7d8d6c72026e920",
            "629f6085b40b4493910610d997e9358a",
            "84dafd5e7b5b457ba0d9062df9904cea",
            "b8a76a55378c4cbeb95134a421dfe80e",
            "e1e9d590796547cab122b27d0deadeb7",
            "86347737e1a04f42b38ef65e3e85c922",
            "72465068b7894ec58db0c3a848c0bc6b",
            "0f3789203d2942a3b85620d58358601d",
            "2024d2038c104b35b414ade1f6e83fdd",
            "983372c031334f9983277fc7aead387e",
            "664d7cb78b5b4e1f8bee933887afc436",
            "ee4a364d18494a0db35ccc26b19855a1",
            "fe15ceedbb384a2ebde5c11d287559ef",
            "5748709bd4174f3e953e1030b12a876c",
            "fee06599affd4b10abf5c0fe852e3751"
          ]
        },
        "id": "JsDoHZWyPaHf",
        "outputId": "54dddd70-abe7-4c24-cf48-c4ae0c953013"
      },
      "execution_count": 14,
      "outputs": [
        {
          "output_type": "display_data",
          "data": {
            "text/plain": [
              "  0%|          | 0/100 [00:00<?, ?it/s]"
            ],
            "application/vnd.jupyter.widget-view+json": {
              "version_major": 2,
              "version_minor": 0,
              "model_id": "d7284ad4603340b9a91b992ac64cc507"
            }
          },
          "metadata": {}
        },
        {
          "output_type": "stream",
          "name": "stdout",
          "text": [
            "tensor([1192.3900, 1185.8303, 1179.5247, 1172.7976, 1164.6511, 1154.6555,\n",
            "        1142.5486, 1127.5386, 1109.3850, 1087.7662, 1060.8977, 1030.3948,\n",
            "         996.6107,  959.9368,  920.6774,  879.3117,  836.0303,  790.8494,\n",
            "         743.9437,  695.7986,  647.1227,  598.7248,  551.4069,  505.8838,\n",
            "         462.7287,  422.3683,  385.0954,  351.1049,  320.5331,  293.4418,\n",
            "         269.8627,  249.7775,  233.1094,  219.6852,  209.2546,  201.4969,\n",
            "         196.0385,  192.4737,  190.3940,  189.4133,  189.1851,  189.4187,\n",
            "         189.8888,  190.4214,  190.9043,  191.2637,  191.4617,  191.4840,\n",
            "         191.3334,  191.0218,  190.5665,  189.9871,  189.3032,  188.5335,\n",
            "         187.6951,  186.8010,  185.8624,  184.8894,  183.8901,  182.8708,\n",
            "         181.8366,  180.7915,  179.7399,  178.6835,  177.6257,  176.5670,\n",
            "         175.5087,  174.4513,  173.3957,  172.3422,  171.2915,  170.2436,\n",
            "         169.1988,  168.1575,  167.1197,  166.0856,  165.0553,  164.0284,\n",
            "         163.0063,  161.9881,  160.9735,  159.9626,  158.9551,  157.9515,\n",
            "         156.9518,  155.9557,  154.9605,  153.9661,  152.9737,  151.9851,\n",
            "         151.0006,  150.0200,  149.0437,  148.0713,  147.1030,  146.1385,\n",
            "         145.1779,  144.2214,  143.2687,  142.3199])\n"
          ]
        },
        {
          "output_type": "display_data",
          "data": {
            "text/plain": [
              "  0%|          | 0/100 [00:00<?, ?it/s]"
            ],
            "application/vnd.jupyter.widget-view+json": {
              "version_major": 2,
              "version_minor": 0,
              "model_id": "2db36a88c49c4b1e86377d0c562b8df4"
            }
          },
          "metadata": {}
        },
        {
          "output_type": "stream",
          "name": "stdout",
          "text": [
            "tensor([2724.0894, 2626.8379, 2518.1909, 2395.8647, 2254.3254, 2094.1624,\n",
            "        1919.4733, 1738.3865, 1561.9177, 1400.9742, 1258.1575, 1137.7061,\n",
            "        1035.7073,  943.7837,  855.9435,  769.5615,  684.4686,  601.7955,\n",
            "         523.2802,  450.7943,  386.0431,  330.2721,  284.0802,  247.3473,\n",
            "         219.2931,  198.6516,  183.9207,  173.6065,  166.4036,  161.2837,\n",
            "         157.5070,  154.5798,  152.1737,  150.0917,  148.2105,  146.4485,\n",
            "         144.7668,  143.1696,  141.6048,  140.0698,  138.5637,  137.0747,\n",
            "         135.5986,  134.1319,  132.6778,  131.2319,  129.7859,  128.3512,\n",
            "         126.9217,  125.5004,  124.0867,  122.6799,  121.2683,  119.8710,\n",
            "         118.4771,  117.0881,  115.7106,  114.3230,  112.9357,  111.5618,\n",
            "         110.1513,  108.7447,  107.3619,  106.0015,  104.6251,  103.2594,\n",
            "         101.8883,  100.5283,   99.1331,   97.7350,   96.1971,   94.6031,\n",
            "          92.9467,   91.3448,   89.7753,   88.2369,   86.6268,   85.1321,\n",
            "          83.3854,   81.7313,   80.2101,   78.7273,   77.0141,   75.4630,\n",
            "          74.0123,   72.5107,   71.1199,   69.4662,   68.1293,   66.8949,\n",
            "          65.3392,   64.0735,   62.8554,   61.7243,   60.4346,   59.2881,\n",
            "          58.0824,   55.1416,   52.0425,   50.6883])\n"
          ]
        },
        {
          "output_type": "display_data",
          "data": {
            "text/plain": [
              "  0%|          | 0/100 [00:00<?, ?it/s]"
            ],
            "application/vnd.jupyter.widget-view+json": {
              "version_major": 2,
              "version_minor": 0,
              "model_id": "20667f29e9a74b37babc9d48a3f54f4c"
            }
          },
          "metadata": {}
        },
        {
          "output_type": "stream",
          "name": "stdout",
          "text": [
            "tensor([1648.7008, 1332.1963,  889.2394,  444.6171,  178.1600,  124.1582,\n",
            "         124.5686,  122.7494,  120.1453,  116.4590,  112.8424,  109.8575,\n",
            "         107.1735,  104.5055,  101.7641,   98.9483,   96.2858,   93.6575,\n",
            "          91.0095,   88.3562,   85.7109,   83.0640,   80.4118,   77.7569,\n",
            "          75.0991,   72.4383,   69.7792,   67.1257,   64.4768,   61.8425,\n",
            "          59.2221,   56.6295,   54.0868,   51.5711,   49.0757,   46.5741,\n",
            "          44.0689,   41.5648,   39.4332,   37.4409,   35.5926,   33.8709,\n",
            "          32.2769,   30.7431,   29.2336,   27.8541,   26.7880,   25.8116,\n",
            "          24.9684,   24.1553,   23.4361,   22.7416,   22.1495,   21.5226,\n",
            "          20.9308,   20.3455,   19.7672,   19.2017,   18.7100,   18.3059,\n",
            "          17.8171,   17.3960,   16.9966,   16.5755,   16.1567,   15.7602,\n",
            "          15.3583,   14.9681,   14.5703,   14.1693,   13.8106,   13.4121,\n",
            "          13.0600,   12.6981,   12.3024,   11.9883,   11.6019,   11.2847,\n",
            "          10.9304,   10.5781,   10.2653,    9.9229,    9.6236,    9.2813,\n",
            "           8.9887,    8.6850,    8.3642,    8.0861,    7.7836,    7.5094,\n",
            "           7.2265,    6.9460,    6.6945,    6.4285,    6.1676,    5.9269,\n",
            "           5.6864,    5.4446,    5.2230,    4.9973])\n"
          ]
        },
        {
          "output_type": "display_data",
          "data": {
            "text/plain": [
              "  0%|          | 0/100 [00:00<?, ?it/s]"
            ],
            "application/vnd.jupyter.widget-view+json": {
              "version_major": 2,
              "version_minor": 0,
              "model_id": "e1e9d590796547cab122b27d0deadeb7"
            }
          },
          "metadata": {}
        },
        {
          "output_type": "stream",
          "name": "stdout",
          "text": [
            "tensor([2028.4232,  939.0112,  216.2316,  144.3701,  148.7468,  151.1740,\n",
            "         140.0165,  136.2669,  133.3539,  128.6245,  124.2481,  120.0418,\n",
            "         115.5972,  111.1500,  106.6341,  102.0646,   97.4440,   92.7742,\n",
            "          88.0704,   83.3468,   78.5850,   73.4804,   68.8018,   63.9418,\n",
            "          59.6541,   55.3456,   51.3562,   47.4809,   44.0901,   41.1186,\n",
            "          38.4512,   36.1077,   34.0803,   32.2440,   30.6999,   29.3193,\n",
            "          28.0811,   26.9145,   25.8686,   24.8830,   24.0802,   23.2692,\n",
            "          22.5741,   21.8603,   21.2207,   20.5624,   20.0026,   19.4060,\n",
            "          18.8399,   18.2640,   17.7665,   17.2043,   16.6895,   16.1502,\n",
            "          15.7391,   15.1890,   14.7446,   14.5971,   13.9495,   13.3613,\n",
            "          13.0372,   12.6029,   12.0738,   11.7612,   11.3255,   10.8712,\n",
            "          10.5205,   10.1275,    9.7340,    9.3811,    9.0014,    8.6065,\n",
            "           8.3130,    7.9792,    7.5896,    7.3091,    6.9755,    6.6948,\n",
            "           6.4639,    6.2024,    5.9359,    5.7133,    5.4803,    5.2764,\n",
            "           5.0669,    4.9071,    4.7100,    4.5472,    4.3499,    4.2059,\n",
            "           4.0729,    3.9547,    3.7895,    3.6793,    3.5483,    3.4635,\n",
            "           3.3327,    3.2382,    3.1387,    3.0378])\n"
          ]
        }
      ]
    },
    {
      "cell_type": "markdown",
      "source": [
        "#### part d"
      ],
      "metadata": {
        "id": "ESyyprdbogbI"
      }
    },
    {
      "cell_type": "code",
      "source": [
        "  plt.plot(losses_list[0],label=\"8 dim\")\n",
        "  plt.plot(losses_list[1],label=\"16 dim\")\n",
        "  plt.plot(losses_list[2],label=\"64 dim\")\n",
        "  plt.plot(losses_list[3],label=\"128 dim\")\n",
        "  plt.title(\"Loss function of diff Hidden-dim\")\n",
        "  plt.xlabel(\"Episode\")\n",
        "  plt.ylabel(\"Loss\")\n",
        "  plt.legend()\n",
        "  plt.show()\n"
      ],
      "metadata": {
        "id": "bVdAP2XE_wiA",
        "colab": {
          "base_uri": "https://localhost:8080/",
          "height": 295
        },
        "outputId": "7e61b140-eadf-4874-8782-cf4a3e4d8922"
      },
      "execution_count": 18,
      "outputs": [
        {
          "output_type": "display_data",
          "data": {
            "text/plain": [
              "<Figure size 432x288 with 1 Axes>"
            ],
            "image/png": "[encoded data removed]"
          },
          "metadata": {
            "needs_background": "light"
          }
        }
      ]
    },
    {
      "cell_type": "markdown",
      "source": [
        "#### Part e\n",
        "\n",
        "#### As it is obvious the larger dimension the more accurate model, because with increasing the dimension the predictiong model will be more complex and it would be able to model most features of the function"
      ],
      "metadata": {
        "id": "pYZ9Y5I3o5Is"
      }
    },
    {
      "cell_type": "code",
      "source": [
        "output_of_NN=trained_model(input)\n",
        "output_of_NN=output_of_NN.detach().numpy()"
      ],
      "metadata": {
        "id": "T-DXxjd9uGi0"
      },
      "execution_count": 44,
      "outputs": []
    },
    {
      "cell_type": "code",
      "source": [
        "  plt.plot(output_of_NN,label=\"output_of_NN\")\n",
        "  plt.plot(output,label=\"real output\")\n",
        "  plt.title(\"outputs of NN and real function\")\n",
        "  plt.legend()\n",
        "  plt.show()"
      ],
      "metadata": {
        "colab": {
          "base_uri": "https://localhost:8080/",
          "height": 281
        },
        "id": "6APACwYyxbnf",
        "outputId": "b8d65050-2c2c-424f-88d2-620eb5edbd3d"
      },
      "execution_count": 45,
      "outputs": [
        {
          "output_type": "display_data",
          "data": {
            "text/plain": [
              "<Figure size 432x288 with 1 Axes>"
            ],
            "image/png": "[encoded data removed]"
          },
          "metadata": {
            "needs_background": "light"
          }
        }
      ]
    },
    {
      "cell_type": "markdown",
      "source": [
        "#### As it is obvious the MLP model has been modeled very accurate within [-10 , 10]. This is the MLP model of 128 dim hidden layer"
      ],
      "metadata": {
        "id": "UEEmkJ_Uo_6E"
      }
    },
    {
      "cell_type": "code",
      "source": [
        "new_input=np.linspace(10, 20, 500)\n",
        "new_input=torch.Tensor([new_input])\n",
        "new_input=torch.t(new_input)\n",
        "\n",
        "new_output=F(new_input)\n",
        "new_output_of_NN=trained_model(new_input)\n",
        "new_output_of_NN=new_output_of_NN.detach().numpy()"
      ],
      "metadata": {
        "id": "QGDgHrgoz3Qy"
      },
      "execution_count": 50,
      "outputs": []
    },
    {
      "cell_type": "code",
      "source": [
        "  plt.plot(new_output_of_NN,label=\"new_output_of_NN\")\n",
        "  plt.plot(new_output,label=\"new real output\")\n",
        "  plt.title(\"new outputs of NN and real function\")\n",
        "  plt.legend()\n",
        "  plt.show()"
      ],
      "metadata": {
        "colab": {
          "base_uri": "https://localhost:8080/",
          "height": 281
        },
        "id": "a7wJY_B40qgL",
        "outputId": "9479ad74-cbef-4050-c070-86bcb434a326"
      },
      "execution_count": 51,
      "outputs": [
        {
          "output_type": "display_data",
          "data": {
            "text/plain": [
              "<Figure size 432x288 with 1 Axes>"
            ],
            "image/png": "[encoded data removed]"
          },
          "metadata": {
            "needs_background": "light"
          }
        }
      ]
    },
    {
      "cell_type": "markdown",
      "source": [
        "#### Although the MLP model predict the output very accurate within [-10,10] it is not predincting accuratly the amount outside of [-10,10] and it shows the model has been overfited."
      ],
      "metadata": {
        "id": "84NiHY01qcAl"
      }
    }
  ]
}